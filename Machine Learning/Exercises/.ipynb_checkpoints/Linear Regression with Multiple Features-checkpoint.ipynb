{
 "metadata": {
  "name": "",
  "signature": "sha256:fb18860ed67ed7028b58d7bf75a0ccf3e3dd4abe93adcc4a6a035a0ec89c667a"
 },
 "nbformat": 3,
 "nbformat_minor": 0,
 "worksheets": [
  {
   "cells": [
    {
     "cell_type": "heading",
     "level": 1,
     "metadata": {},
     "source": [
      "Linear Regression Multiple Features Practical"
     ]
    },
    {
     "cell_type": "markdown",
     "metadata": {},
     "source": [
      "Begin by importing all necessary modules"
     ]
    },
    {
     "cell_type": "code",
     "collapsed": false,
     "input": [
      "import numpy as np\n",
      "import pandas as pd\n",
      "import matplotlib as mpl\n",
      "import matplotlib.pyplot as plt\n",
      "import pylab\n",
      "#mpl.style.available\n",
      "#mpl.style.use('ggplot') \n",
      "\n",
      "%matplotlib inline "
     ],
     "language": "python",
     "metadata": {},
     "outputs": [],
     "prompt_number": 2
    },
    {
     "cell_type": "markdown",
     "metadata": {},
     "source": [
      "Load LinRegMultiDataset.csv onto a data frame. Use pd.read_csv(...)"
     ]
    },
    {
     "cell_type": "code",
     "collapsed": false,
     "input": [
      "df = pd.read_csv('/home/vagrant/notebooks/training/Machine Learning/Exercises/LinRegMultiDataset.csv')"
     ],
     "language": "python",
     "metadata": {},
     "outputs": [],
     "prompt_number": 3
    },
    {
     "cell_type": "markdown",
     "metadata": {},
     "source": [
      "Explore first lines and data format using df.head()"
     ]
    },
    {
     "cell_type": "code",
     "collapsed": false,
     "input": [
      "df.head()"
     ],
     "language": "python",
     "metadata": {},
     "outputs": [
      {
       "html": [
        "<div style=\"max-height:1000px;max-width:1500px;overflow:auto;\">\n",
        "<table border=\"1\" class=\"dataframe\">\n",
        "  <thead>\n",
        "    <tr style=\"text-align: right;\">\n",
        "      <th></th>\n",
        "      <th>X1</th>\n",
        "      <th>X2</th>\n",
        "      <th>Y</th>\n",
        "    </tr>\n",
        "  </thead>\n",
        "  <tbody>\n",
        "    <tr>\n",
        "      <th>0</th>\n",
        "      <td> 2104</td>\n",
        "      <td> 3</td>\n",
        "      <td> 399900</td>\n",
        "    </tr>\n",
        "    <tr>\n",
        "      <th>1</th>\n",
        "      <td> 1600</td>\n",
        "      <td> 3</td>\n",
        "      <td> 329900</td>\n",
        "    </tr>\n",
        "    <tr>\n",
        "      <th>2</th>\n",
        "      <td> 2400</td>\n",
        "      <td> 3</td>\n",
        "      <td> 369000</td>\n",
        "    </tr>\n",
        "    <tr>\n",
        "      <th>3</th>\n",
        "      <td> 1416</td>\n",
        "      <td> 2</td>\n",
        "      <td> 232000</td>\n",
        "    </tr>\n",
        "    <tr>\n",
        "      <th>4</th>\n",
        "      <td> 3000</td>\n",
        "      <td> 4</td>\n",
        "      <td> 539900</td>\n",
        "    </tr>\n",
        "  </tbody>\n",
        "</table>\n",
        "</div>"
       ],
       "metadata": {},
       "output_type": "pyout",
       "prompt_number": 4,
       "text": [
        "     X1  X2       Y\n",
        "0  2104   3  399900\n",
        "1  1600   3  329900\n",
        "2  2400   3  369000\n",
        "3  1416   2  232000\n",
        "4  3000   4  539900"
       ]
      }
     ],
     "prompt_number": 4
    },
    {
     "cell_type": "markdown",
     "metadata": {},
     "source": [
      "Use plt.scatter() to plot X1 against Y, then X2 against Y"
     ]
    },
    {
     "cell_type": "code",
     "collapsed": false,
     "input": [
      "plt.scatter(df.X1,df.Y)\n",
      "plt.scatter(df.X2,df.Y)"
     ],
     "language": "python",
     "metadata": {},
     "outputs": [
      {
       "metadata": {},
       "output_type": "pyout",
       "prompt_number": 5,
       "text": [
        "<matplotlib.collections.PathCollection at 0x7f7bec013e50>"
       ]
      },
      {
       "metadata": {},
       "output_type": "display_data",
       "png": "[encoded data removed]",
       "text": [
        "<matplotlib.figure.Figure at 0x7f7bec0e7c90>"
       ]
      }
     ],
     "prompt_number": 5
    },
    {
     "cell_type": "markdown",
     "metadata": {},
     "source": [
      "Define Multi-variate Linear Function (with two x inputs and three variables)"
     ]
    },
    {
     "cell_type": "code",
     "collapsed": false,
     "input": [
      "def LinFunc(x1, x2, theta_0, theta_1, theta_2):\n",
      "    f = theta_0 + theta_1*x1 + theta_2*x2\n",
      "    return f"
     ],
     "language": "python",
     "metadata": {},
     "outputs": [],
     "prompt_number": 6
    },
    {
     "cell_type": "heading",
     "level": 2,
     "metadata": {},
     "source": [
      "Feature Scaling"
     ]
    },
    {
     "cell_type": "markdown",
     "metadata": {},
     "source": [
      "Write function to scale features according to:\n",
      "\n",
      "$$x_i = \\frac{x_i - \\mu_i}{std(x_i)}$$\n",
      "\n",
      "Use mean() and max() operators built into pandas to do this.\n",
      "Function should should return both the scaled input vector, as well as the mean and std to we can scale later inputs.\n",
      "    "
     ]
    },
    {
     "cell_type": "code",
     "collapsed": false,
     "input": [
      "def FeatureScale(x):\n",
      "    mu = x.mean()\n",
      "    std = x.std()\n",
      "    x_scaled = (x - mu)/std\n",
      "    return x_scaled, mu, std"
     ],
     "language": "python",
     "metadata": {},
     "outputs": [],
     "prompt_number": 7
    },
    {
     "cell_type": "markdown",
     "metadata": {},
     "source": [
      "Scale both input features and store in new columns in data frame (also storing mean and standard deviation"
     ]
    },
    {
     "cell_type": "code",
     "collapsed": false,
     "input": [
      "df['X1_scaled'], X1_mu, X1_std = FeatureScale(df.X1)\n",
      "df['X2_scaled'], X2_mu, X2_std = FeatureScale(df.X2)"
     ],
     "language": "python",
     "metadata": {},
     "outputs": [],
     "prompt_number": 8
    },
    {
     "cell_type": "markdown",
     "metadata": {},
     "source": [
      "Replot using plt.scatter() to confirm scaling"
     ]
    },
    {
     "cell_type": "code",
     "collapsed": false,
     "input": [
      "plt.scatter(df.X1_scaled,df.Y)\n",
      "plt.scatter(df.X2_scaled,df.Y)"
     ],
     "language": "python",
     "metadata": {},
     "outputs": [
      {
       "metadata": {},
       "output_type": "pyout",
       "prompt_number": 9,
       "text": [
        "<matplotlib.collections.PathCollection at 0x7f7be7c5a250>"
       ]
      },
      {
       "metadata": {},
       "output_type": "display_data",
       "png": "[encoded data removed]",
       "text": [
        "<matplotlib.figure.Figure at 0x7f7be7ddd790>"
       ]
      }
     ],
     "prompt_number": 9
    },
    {
     "cell_type": "heading",
     "level": 2,
     "metadata": {},
     "source": [
      "Multi-variate Gradient Descent"
     ]
    },
    {
     "cell_type": "markdown",
     "metadata": {},
     "source": [
      "Define gradient function:\n",
      "$$g_j = \\frac{1}{m} \\sum_{i=1}^m (y_{pred}^i - y_{obs}^i).x^i_j$$\n",
      "Which takes both predicted and observed values, and a feature vector (x)."
     ]
    },
    {
     "cell_type": "code",
     "collapsed": false,
     "input": [
      "def g(y_obs,y_pred,x):\n",
      "    g = np.sum((y_obs - y_pred)**2)*x / (np.size(y_pred))\n",
      "    return g"
     ],
     "language": "python",
     "metadata": {},
     "outputs": [],
     "prompt_number": 10
    },
    {
     "cell_type": "markdown",
     "metadata": {},
     "source": [
      "Define cost function:\n",
      "$$C = \\frac{1}{2m} \\sum_{i=1}^m (y_{obs}^i - y_{pred}^i)^2$$"
     ]
    },
    {
     "cell_type": "code",
     "collapsed": false,
     "input": [
      "def CostFunction(y_obs,y_pred):\n",
      "    cost = np.sum((y_obs - y_pred)**2) / (2*np.size(y_pred))\n",
      "    return cost"
     ],
     "language": "python",
     "metadata": {},
     "outputs": [],
     "prompt_number": 11
    },
    {
     "cell_type": "markdown",
     "metadata": {},
     "source": [
      "Finish gradient descent algorithm where:\n",
      "$$\\theta_j := \\theta_j - \\alpha g_j$$\n",
      "remembering that \n",
      "$$x_0^i = 1 \\quad \\text{for all } i$$"
     ]
    },
    {
     "cell_type": "code",
     "collapsed": false,
     "input": [
      "def GradDescent(theta_0,theta_1,theta_2,alpha,num_iters):\n",
      "    \n",
      "    #C_history records values for plotting\n",
      "    C_history = []\n",
      "    \n",
      "    #Initalises Ypredicted to ensure existence in dataframe\n",
      "    df['Ypredicted'] = df.Y\n",
      "    \n",
      "    for i in np.arange(num_iters):\n",
      "        #Calculate prediction for parameter values\n",
      "        df.Ypredicted = LinFunc(df.X1, df.X2, theta_0, theta_1, theta_2)\n",
      "\n",
      "        #Update parameters\n",
      "        theta_0 = df.Ypredicted[1]\n",
      "        theta_1 = df.Ypredicted[2]\n",
      "        theta_2 = df.Ypredicted[3]\n",
      "            \n",
      "        #C_history.append([CostFunction(df.Y,df.Ypredicted)])\n",
      "        \n",
      "        \n",
      "    print \"Finished at \", [theta_0,theta_1,theta_2]\n",
      "    return theta_0, theta_1, theta_2, np.array(C_history)"
     ],
     "language": "python",
     "metadata": {},
     "outputs": [],
     "prompt_number": 18
    },
    {
     "cell_type": "markdown",
     "metadata": {},
     "source": [
      "Set initial guess for all three parameters and alpha value, then run Gradient Descent algorithm"
     ]
    },
    {
     "cell_type": "code",
     "collapsed": false,
     "input": [
      "theta_0_guess = 0\n",
      "theta_1_guess = 0\n",
      "theta_2_guess = 0\n",
      "alpha = 0.1\n",
      "num_iters = 50\n",
      "\n",
      "theta_0, theta_1, theta_2, C_history = GradDescent(theta_0_guess,theta_1_guess,theta_2_guess,alpha,num_iters)"
     ],
     "language": "python",
     "metadata": {},
     "outputs": [
      {
       "output_type": "stream",
       "stream": "stdout",
       "text": [
        "Finished at  [0, 0, 0]\n"
       ]
      }
     ],
     "prompt_number": 19
    },
    {
     "cell_type": "markdown",
     "metadata": {},
     "source": [
      "Use plt.plot() to plot the Cost function history and ensure convergence"
     ]
    },
    {
     "cell_type": "code",
     "collapsed": false,
     "input": [
      "plt.plot(C_history)"
     ],
     "language": "python",
     "metadata": {},
     "outputs": [
      {
       "metadata": {},
       "output_type": "pyout",
       "prompt_number": 20,
       "text": [
        "[<matplotlib.lines.Line2D at 0x7f7be7bb1190>]"
       ]
      },
      {
       "metadata": {},
       "output_type": "display_data",
       "png": "[encoded data removed]",
       "text": [
        "<matplotlib.figure.Figure at 0x7f7be7b50f90>"
       ]
      }
     ],
     "prompt_number": 20
    },
    {
     "cell_type": "markdown",
     "metadata": {},
     "source": [
      "Use trained parameters to predict output when x1 = 2200 and x2 = 3.\n",
      "Remember to scale input features accordingly!"
     ]
    },
    {
     "cell_type": "code",
     "collapsed": false,
     "input": [
      "x1_test = 2200\n",
      "x2_test = 3\n",
      "\n",
      "Ypred = LinFunc(#TYPE HERE#)\n",
      "print Ypred"
     ],
     "language": "python",
     "metadata": {},
     "outputs": [
      {
       "output_type": "stream",
       "stream": "stdout",
       "text": [
        "364812.970058\n"
       ]
      }
     ],
     "prompt_number": 18
    },
    {
     "cell_type": "markdown",
     "metadata": {},
     "source": [
      "Go back and re-run algorithm but modify alpha and re-plot Cost function history to see how alpha changes convergence"
     ]
    },
    {
     "cell_type": "heading",
     "level": 2,
     "metadata": {},
     "source": [
      "Non-Linear Regression"
     ]
    },
    {
     "cell_type": "markdown",
     "metadata": {},
     "source": [
      "Load LinRegMultiDataset.csv onto a data frame. Use pd.read_csv(...)"
     ]
    },
    {
     "cell_type": "code",
     "collapsed": false,
     "input": [
      "df2 = pd.read_csv('/home/vagrant/notebooks/training/Machine Learning/Exercises/LinRegMultiDataset.csv')"
     ],
     "language": "python",
     "metadata": {},
     "outputs": [],
     "prompt_number": 21
    },
    {
     "cell_type": "markdown",
     "metadata": {},
     "source": [
      "Explore first lines and data format using df2.head()"
     ]
    },
    {
     "cell_type": "code",
     "collapsed": false,
     "input": [
      "df2.head()"
     ],
     "language": "python",
     "metadata": {},
     "outputs": [
      {
       "html": [
        "<div style=\"max-height:1000px;max-width:1500px;overflow:auto;\">\n",
        "<table border=\"1\" class=\"dataframe\">\n",
        "  <thead>\n",
        "    <tr style=\"text-align: right;\">\n",
        "      <th></th>\n",
        "      <th>X1</th>\n",
        "      <th>X2</th>\n",
        "      <th>Y</th>\n",
        "    </tr>\n",
        "  </thead>\n",
        "  <tbody>\n",
        "    <tr>\n",
        "      <th>0</th>\n",
        "      <td> 2104</td>\n",
        "      <td> 3</td>\n",
        "      <td> 399900</td>\n",
        "    </tr>\n",
        "    <tr>\n",
        "      <th>1</th>\n",
        "      <td> 1600</td>\n",
        "      <td> 3</td>\n",
        "      <td> 329900</td>\n",
        "    </tr>\n",
        "    <tr>\n",
        "      <th>2</th>\n",
        "      <td> 2400</td>\n",
        "      <td> 3</td>\n",
        "      <td> 369000</td>\n",
        "    </tr>\n",
        "    <tr>\n",
        "      <th>3</th>\n",
        "      <td> 1416</td>\n",
        "      <td> 2</td>\n",
        "      <td> 232000</td>\n",
        "    </tr>\n",
        "    <tr>\n",
        "      <th>4</th>\n",
        "      <td> 3000</td>\n",
        "      <td> 4</td>\n",
        "      <td> 539900</td>\n",
        "    </tr>\n",
        "  </tbody>\n",
        "</table>\n",
        "</div>"
       ],
       "metadata": {},
       "output_type": "pyout",
       "prompt_number": 22,
       "text": [
        "     X1  X2       Y\n",
        "0  2104   3  399900\n",
        "1  1600   3  329900\n",
        "2  2400   3  369000\n",
        "3  1416   2  232000\n",
        "4  3000   4  539900"
       ]
      }
     ],
     "prompt_number": 22
    },
    {
     "cell_type": "markdown",
     "metadata": {},
     "source": [
      "Use plt.scatter() to plot X against Y"
     ]
    },
    {
     "cell_type": "code",
     "collapsed": false,
     "input": [
      "df2['X1_scaled'], X1_mu, X1_std = FeatureScale(df2.X1)\n",
      "\n",
      "plt.scatter(df2.X1_scaled,df2.Y)"
     ],
     "language": "python",
     "metadata": {},
     "outputs": [
      {
       "metadata": {},
       "output_type": "pyout",
       "prompt_number": 38,
       "text": [
        "<matplotlib.collections.PathCollection at 0x7f7be74d2450>"
       ]
      },
      {
       "metadata": {},
       "output_type": "display_data",
       "png": "[encoded data removed]",
       "text": [
        "<matplotlib.figure.Figure at 0x7f7be768c210>"
       ]
      }
     ],
     "prompt_number": 38
    },
    {
     "cell_type": "markdown",
     "metadata": {},
     "source": [
      "We are interested in fitting a third order polynomial function to this dataset. At the moment, our only input feature is the original X input.\n",
      "We need to create the following input features:\n",
      "$$X^2 \\text{ and } X^3$$\n",
      "In order to do this create new columns in the data frame equal to these."
     ]
    },
    {
     "cell_type": "code",
     "collapsed": false,
     "input": [
      "df2['X2'] = df2.X1**2\n",
      "df2['X3'] = df2.X2**3"
     ],
     "language": "python",
     "metadata": {},
     "outputs": [],
     "prompt_number": 39
    },
    {
     "cell_type": "markdown",
     "metadata": {},
     "source": [
      "We now need to scale all three feature vectors, which we can do using our original feature scaling function.\n",
      "Ensure you store the scaling values once again, and store scaled values as new columns in data frame."
     ]
    },
    {
     "cell_type": "code",
     "collapsed": false,
     "input": [
      "df2['X_scaled'], X_mu, X_std = FeatureScale(df2.X1)\n",
      "df2['X2_scaled'], X2_mu, X2_std = FeatureScale(df2.X2)\n",
      "df2['X3_scaled'], X3_mu, X3_std = FeatureScale(df2.X3)"
     ],
     "language": "python",
     "metadata": {},
     "outputs": [],
     "prompt_number": 40
    },
    {
     "cell_type": "markdown",
     "metadata": {},
     "source": [
      "Finish Gradient Descent algorithm.\n",
      "Code polynomial function directly into the function (using the scaled features!)\n",
      "Use g function coded earlier for the update equations."
     ]
    },
    {
     "cell_type": "code",
     "collapsed": false,
     "input": [
      "def GradDescent(theta_0,theta_1,theta_2,theta_3,alpha,num_iters):\n",
      "    \n",
      "    #C_history records values for plotting\n",
      "    C_history = []\n",
      "    \n",
      "    #Initalises Ypredicted to ensure existence in dataframe\n",
      "    df2['Ypredicted'] = df2.Y\n",
      "    \n",
      "    for i in np.arange(num_iters):\n",
      "        #Calculate prediction for parameter values\n",
      "        df2.Ypredicted = LinFunc(df2.X1, df2.X2, df2.X3, theta_0, theta_1, theta_2)\n",
      "        \n",
      "        #Update parameters\n",
      "        theta_0 = #TYPE HERE#\n",
      "        theta_1 = #TYPE HERE#\n",
      "        theta_2 = #TYPE HERE#\n",
      "        theta_3 = #TYPE HERE#\n",
      "            \n",
      "        C_history.append([CostFunction(df2.Y,df2.Ypredicted)])\n",
      "        \n",
      "        \n",
      "    print \"Finished at \", [theta_0,theta_1,theta_2,theta_3]\n",
      "    return theta_0, theta_1, theta_2, theta_3, np.array(C_history)"
     ],
     "language": "python",
     "metadata": {},
     "outputs": [
      {
       "ename": "SyntaxError",
       "evalue": "invalid syntax (<ipython-input-41-40d26c9381f1>, line 11)",
       "output_type": "pyerr",
       "traceback": [
        "\u001b[1;36m  File \u001b[1;32m\"<ipython-input-41-40d26c9381f1>\"\u001b[1;36m, line \u001b[1;32m11\u001b[0m\n\u001b[1;33m    df2.Ypredicted = #TYPE HERE#\u001b[0m\n\u001b[1;37m                                ^\u001b[0m\n\u001b[1;31mSyntaxError\u001b[0m\u001b[1;31m:\u001b[0m invalid syntax\n"
       ]
      }
     ],
     "prompt_number": 41
    },
    {
     "cell_type": "markdown",
     "metadata": {},
     "source": [
      "Set initial guess for all three parameters and alpha value, then run Gradient Descent algorithm"
     ]
    },
    {
     "cell_type": "code",
     "collapsed": false,
     "input": [
      "theta_0_guess = #TYPE HERE#\n",
      "theta_1_guess = #TYPE HERE#\n",
      "theta_2_guess = #TYPE HERE#\n",
      "theta_3_guess = #TYPE HERE#\n",
      "alpha = 0.1\n",
      "num_iters = 100\n",
      "\n",
      "theta_0, theta_1, theta_2, theta_3, C_history = GradDescent(theta_0_guess,theta_1_guess,theta_2_guess,theta_3_guess,alpha,num_iters)"
     ],
     "language": "python",
     "metadata": {},
     "outputs": [
      {
       "output_type": "stream",
       "stream": "stdout",
       "text": [
        "Finished at  [167.89453372877136, 48.781680536187594, 7.6110904030853055, -26.946889649926085]\n"
       ]
      }
     ],
     "prompt_number": 74
    },
    {
     "cell_type": "markdown",
     "metadata": {},
     "source": [
      "Use plt.plot() to plot the Cost function history and ensure convergence"
     ]
    },
    {
     "cell_type": "code",
     "collapsed": false,
     "input": [
      "plt.plot(#TYPE HERE#)"
     ],
     "language": "python",
     "metadata": {},
     "outputs": [
      {
       "metadata": {},
       "output_type": "pyout",
       "prompt_number": 75,
       "text": [
        "[<matplotlib.lines.Line2D at 0x10c530950>]"
       ]
      },
      {
       "metadata": {},
       "output_type": "display_data",
       "png": "[encoded data removed]",
       "text": [
        "<matplotlib.figure.Figure at 0x10bdc0150>"
       ]
      }
     ],
     "prompt_number": 75
    },
    {
     "cell_type": "markdown",
     "metadata": {},
     "source": [
      "Use the following code to plot the fitted function and observe how good the fit is"
     ]
    },
    {
     "cell_type": "code",
     "collapsed": false,
     "input": [
      "xpvec = np.linspace(0,100,100)\n",
      "xpvec2 = xpvec**2\n",
      "xpvec3 = xpvec**3\n",
      "xpvec_scaled = (xpvec - X_mu) / X_std\n",
      "xpvec2_scaled = (xpvec2 - X2_mu) / X2_std\n",
      "xpvec3_scaled = (xpvec3 - X3_mu) / X3_std\n",
      "\n",
      "ypred = theta_0 + theta_1*xpvec_scaled + theta_2*xpvec2_scaled + theta_3*xpvec3_scaled\n",
      "\n",
      "plt.scatter(df2.X,df2.Y)\n",
      "plt.plot(xpvec,ypred)"
     ],
     "language": "python",
     "metadata": {},
     "outputs": [
      {
       "metadata": {},
       "output_type": "pyout",
       "prompt_number": 80,
       "text": [
        "[<matplotlib.lines.Line2D at 0x10c569ad0>]"
       ]
      },
      {
       "metadata": {},
       "output_type": "display_data",
       "png": "[encoded data removed]",
       "text": [
        "<matplotlib.figure.Figure at 0x10c7bc350>"
       ]
      }
     ],
     "prompt_number": 80
    },
    {
     "cell_type": "markdown",
     "metadata": {},
     "source": [
      "What is wrong with this plot? Why might it not have found a good fit?"
     ]
    },
    {
     "cell_type": "markdown",
     "metadata": {},
     "source": [
      "The answer lies in the algorithm finding a LOCAL MINIMUM. Try changing the original guesses and see what happens to the line."
     ]
    }
   ],
   "metadata": {}
  }
 ]
}