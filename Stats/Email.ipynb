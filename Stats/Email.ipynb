{
 "metadata": {
  "name": "",
<<<<<<< HEAD
  "signature": "sha256:ab6d39a2ef116d1413f7f258eb44dd2bde3f6d4559a9e3424ea822f05d6ea08f"
=======
  "signature": "sha256:54370c89e9efea744e0e08cdcc7b1d5f1b1e8a38bdbbd7e748ace123c24b821c"
>>>>>>> 599d9a5b3f871a14eb589bc1840177fc00afe136
 },
 "nbformat": 3,
 "nbformat_minor": 0,
 "worksheets": [
  {
   "cells": [
    {
     "cell_type": "heading",
     "level": 1,
     "metadata": {},
     "source": [
      "Import relevant libraries"
     ]
    },
    {
     "cell_type": "code",
     "collapsed": false,
     "input": [
      "import numpy as np\n",
      "import pandas as pd\n",
      "import matplotlib as mpl\n",
      "import matplotlib.pyplot as plt\n",
      "import pylab\n",
      "import scipy.stats as stats\n",
      "#mpl.style.available\n",
      "#mpl.style.use('ggplot') \n",
      "%matplotlib inline "
     ],
     "language": "python",
     "metadata": {},
     "outputs": [],
     "prompt_number": 1

    },
    {
     "cell_type": "markdown",
     "metadata": {},
     "source": [
      "\n",
      "##Description\n",
      "These data represent incoming emails for the first three months of 2012 for an email account.\n",
      "##Format\n",
      "A email (email_sent) data frame has 3921 (1252) observations on the following 21 variables.\n",
      "\n",
      "spam: Indicator for whether the email was spam.\n",
      "\n",
      "to_multiple: Indicator for whether the email was addressed to more than one recipient.\n",
      "\n",
      "from: Whether the message was listed as from anyone (this is usually set by default for regular outgoing email).\n",
      "\n",
      "cc: The number of people that were CCed.\n",
      "\n",
      "sent_email: Indicator for whether the sender had been sent an email in the last 30 days.\n",
      "\n",
      "time: Time at which email was sent.\n",
      "\n",
      "image: The number of images attached.\n",
      "\n",
      "attach: The number of attached files.\n",
      "\n",
      "dollar: The number of times a dollar sign or the word \u201cdollar\u201d appeared in the email.\n",
      "\n",
      "winner: Indicates whether \u201cwinner\u201d appeared in the email.\n",
      "\n",
      "inherit: The number of times \u201cinherit\u201d (or an extension, such as \u201cinheritance\u201d) appeared in the email.\n",
      "\n",
      "viagra: The number of times \u201cviagra\u201d appeared in the email.\n",
      "\n",
      "password: The number of times \u201cpassword\u201d appeared in the email.\n",
      "\n",
      "num_char: The number of characters in the email, in thousands.\n",
      "\n",
      "line_breaks: The number of line breaks in the email (does not count text wrapping).\n",
      "\n",
      "format: Indicates whether the email was written using HTML (e.g. may have included bolding or active links).\n",
      "\n",
      "re_subj: Whether the subject started with \u201cRe:\u201d, \u201cRE:\u201d, \u201cre:\u201d, or \u201crE:\u201d\n",
      "\n",
      "exclaim_subj: Whether there was an exclamation point in the subject.\n",
      "\n",
      "urgent_subj: Whether the word \u201curgent\u201d was in the email subject.\n",
      "\n",
      "exclaim_mess: The number of exclamation points in the email message.\n",
      "\n",
      "number: Factor variable saying whether there was no number, a small number (under 1 million), or a big number."
     ]
    },
    {
     "cell_type": "markdown",
     "metadata": {},
     "source": [
      "Load email.txt on a data frame.\n",
      "Use df=pd.read_table('path')"
     ]
    },
    {
     "cell_type": "code",
     "collapsed": false,
     "input": [

      "df=pd.read_table('/home/vagrant/notebooks/training/Stats/email.txt')"

     ],
     "language": "python",
     "metadata": {},
     "outputs": [],
     "prompt_number": 2

    },
    {
     "cell_type": "markdown",
     "metadata": {},
     "source": [
      "Explore the first lines of the data by using df.head()"
     ]
    },
    {
     "cell_type": "code",
     "collapsed": false,
     "input": [
      "df.head()"
     ],
     "language": "python",
     "metadata": {},
     "outputs": [
      {
       "html": [
        "<div style=\"max-height:1000px;max-width:1500px;overflow:auto;\">\n",
        "<table border=\"1\" class=\"dataframe\">\n",
        "  <thead>\n",
        "    <tr style=\"text-align: right;\">\n",
        "      <th></th>\n",
        "      <th>spam</th>\n",
        "      <th>to_multiple</th>\n",
        "      <th>from</th>\n",
        "      <th>cc</th>\n",
        "      <th>sent_email</th>\n",
        "      <th>time</th>\n",
        "      <th>image</th>\n",
        "      <th>attach</th>\n",
        "      <th>dollar</th>\n",
        "      <th>winner</th>\n",
        "      <th>...</th>\n",
        "      <th>viagra</th>\n",
        "      <th>password</th>\n",
        "      <th>num_char</th>\n",
        "      <th>line_breaks</th>\n",
        "      <th>format</th>\n",
        "      <th>re_subj</th>\n",
        "      <th>exclaim_subj</th>\n",
        "      <th>urgent_subj</th>\n",
        "      <th>exclaim_mess</th>\n",
        "      <th>number</th>\n",
        "    </tr>\n",
        "  </thead>\n",
        "  <tbody>\n",
        "    <tr>\n",
        "      <th>0</th>\n",
        "      <td> 0</td>\n",
        "      <td> 0</td>\n",
        "      <td> 1</td>\n",
        "      <td> 0</td>\n",
        "      <td> 0</td>\n",
        "      <td> 2011-12-31 22:16:41</td>\n",
        "      <td> 0</td>\n",
        "      <td> 0</td>\n",
        "      <td> 0</td>\n",
        "      <td> no</td>\n",
        "      <td>...</td>\n",
        "      <td> 0</td>\n",
        "      <td> 0</td>\n",
        "      <td> 11.370</td>\n",
        "      <td> 202</td>\n",
        "      <td> 1</td>\n",
        "      <td> 0</td>\n",
        "      <td> 0</td>\n",
        "      <td> 0</td>\n",
        "      <td>  0</td>\n",
        "      <td>   big</td>\n",
        "    </tr>\n",
        "    <tr>\n",
        "      <th>1</th>\n",
        "      <td> 0</td>\n",
        "      <td> 0</td>\n",
        "      <td> 1</td>\n",
        "      <td> 0</td>\n",
        "      <td> 0</td>\n",
        "      <td> 2011-12-31 23:03:59</td>\n",
        "      <td> 0</td>\n",
        "      <td> 0</td>\n",
        "      <td> 0</td>\n",
        "      <td> no</td>\n",
        "      <td>...</td>\n",
        "      <td> 0</td>\n",
        "      <td> 0</td>\n",
        "      <td> 10.504</td>\n",
        "      <td> 202</td>\n",
        "      <td> 1</td>\n",
        "      <td> 0</td>\n",
        "      <td> 0</td>\n",
        "      <td> 0</td>\n",
        "      <td>  1</td>\n",
        "      <td> small</td>\n",
        "    </tr>\n",
        "    <tr>\n",
        "      <th>2</th>\n",
        "      <td> 0</td>\n",
        "      <td> 0</td>\n",
        "      <td> 1</td>\n",
        "      <td> 0</td>\n",
        "      <td> 0</td>\n",
        "      <td> 2012-01-01 08:00:32</td>\n",
        "      <td> 0</td>\n",
        "      <td> 0</td>\n",
        "      <td> 4</td>\n",
        "      <td> no</td>\n",
        "      <td>...</td>\n",
        "      <td> 0</td>\n",
        "      <td> 0</td>\n",
        "      <td>  7.773</td>\n",
        "      <td> 192</td>\n",
        "      <td> 1</td>\n",
        "      <td> 0</td>\n",
        "      <td> 0</td>\n",
        "      <td> 0</td>\n",
        "      <td>  6</td>\n",
        "      <td> small</td>\n",
        "    </tr>\n",
        "    <tr>\n",
        "      <th>3</th>\n",
        "      <td> 0</td>\n",
        "      <td> 0</td>\n",
        "      <td> 1</td>\n",
        "      <td> 0</td>\n",
        "      <td> 0</td>\n",
        "      <td> 2012-01-01 01:09:49</td>\n",
        "      <td> 0</td>\n",
        "      <td> 0</td>\n",
        "      <td> 0</td>\n",
        "      <td> no</td>\n",
        "      <td>...</td>\n",
        "      <td> 0</td>\n",
        "      <td> 0</td>\n",
        "      <td> 13.256</td>\n",
        "      <td> 255</td>\n",
        "      <td> 1</td>\n",
        "      <td> 0</td>\n",
        "      <td> 0</td>\n",
        "      <td> 0</td>\n",
        "      <td> 48</td>\n",
        "      <td> small</td>\n",
        "    </tr>\n",
        "    <tr>\n",
        "      <th>4</th>\n",
        "      <td> 0</td>\n",
        "      <td> 0</td>\n",
        "      <td> 1</td>\n",
        "      <td> 0</td>\n",
        "      <td> 0</td>\n",
        "      <td> 2012-01-01 02:00:01</td>\n",
        "      <td> 0</td>\n",
        "      <td> 0</td>\n",
        "      <td> 0</td>\n",
        "      <td> no</td>\n",
        "      <td>...</td>\n",
        "      <td> 0</td>\n",
        "      <td> 2</td>\n",
        "      <td>  1.231</td>\n",
        "      <td>  29</td>\n",
        "      <td> 0</td>\n",
        "      <td> 0</td>\n",
        "      <td> 0</td>\n",
        "      <td> 0</td>\n",
        "      <td>  1</td>\n",
        "      <td>  none</td>\n",
        "    </tr>\n",
        "  </tbody>\n",
        "</table>\n",
        "<p>5 rows \u00d7 21 columns</p>\n",
        "</div>"
       ],
       "metadata": {},
       "output_type": "pyout",
       "prompt_number": 3,

       "text": [
        "   spam  to_multiple  from  cc  sent_email                 time  image  \\\n",
        "0     0            0     1   0           0  2011-12-31 22:16:41      0   \n",
        "1     0            0     1   0           0  2011-12-31 23:03:59      0   \n",
        "2     0            0     1   0           0  2012-01-01 08:00:32      0   \n",
        "3     0            0     1   0           0  2012-01-01 01:09:49      0   \n",
        "4     0            0     1   0           0  2012-01-01 02:00:01      0   \n",
        "\n",
        "   attach  dollar winner  ...    viagra  password  num_char  line_breaks  \\\n",
        "0       0       0     no  ...         0         0    11.370          202   \n",
        "1       0       0     no  ...         0         0    10.504          202   \n",
        "2       0       4     no  ...         0         0     7.773          192   \n",
        "3       0       0     no  ...         0         0    13.256          255   \n",
        "4       0       0     no  ...         0         2     1.231           29   \n",
        "\n",
        "   format  re_subj  exclaim_subj  urgent_subj  exclaim_mess  number  \n",
        "0       1        0             0            0             0     big  \n",
        "1       1        0             0            0             1   small  \n",
        "2       1        0             0            0             6   small  \n",
        "3       1        0             0            0            48   small  \n",
        "4       0        0             0            0             1    none  \n",
        "\n",
        "[5 rows x 21 columns]"
       ]
      }
     ],
     "prompt_number": 3

    },
    {
     "cell_type": "markdown",
     "metadata": {},
     "source": [
      "Explore the different types of variables  df.dtypes"
     ]
    },
    {
     "cell_type": "code",
     "collapsed": false,
     "input": [
      "df.dtypes"
     ],
     "language": "python",
     "metadata": {},
     "outputs": [
      {
       "metadata": {},
       "output_type": "pyout",
       "prompt_number": 5,
       "text": [
        "spam              int64\n",
        "to_multiple       int64\n",
        "from              int64\n",
        "cc                int64\n",
        "sent_email        int64\n",
        "time             object\n",
        "image             int64\n",
        "attach            int64\n",
        "dollar            int64\n",
        "winner           object\n",
        "inherit           int64\n",
        "viagra            int64\n",
        "password          int64\n",
        "num_char        float64\n",
        "line_breaks       int64\n",
        "format            int64\n",
        "re_subj           int64\n",
        "exclaim_subj      int64\n",
        "urgent_subj       int64\n",
        "exclaim_mess      int64\n",
        "number           object\n",
        "dtype: object"
       ]
      }
     ],
     "prompt_number": 5
    },
    {
     "cell_type": "markdown",
     "metadata": {},
     "source": [
      "Print the values of the num_char variable. Hint: in order to select a variable from a data base use df.variable or df['variable']."
     ]
    },
    {
     "cell_type": "code",
     "collapsed": false,
     "input": [
      "#df.num_char\n",
      "df['num_char']"

     ],
     "language": "python",
     "metadata": {},
     "outputs": [
      {
       "metadata": {},
       "output_type": "pyout",
       "prompt_number": 8,

       "text": [
        "0     11.370\n",
        "1     10.504\n",
        "2      7.773\n",
        "3     13.256\n",
        "4      1.231\n",
        "5      1.091\n",
        "6      4.837\n",
        "7      7.421\n",
        "8      3.051\n",
        "9      2.643\n",
        "10     0.869\n",
        "11     4.020\n",
        "12    10.459\n",
        "13    15.075\n",
        "14    19.693\n",
        "...\n",
        "3906     0.073\n",
        "3907     0.015\n",
        "3908     0.249\n",
        "3909     0.341\n",
        "3910     2.402\n",
        "3911     1.055\n",
        "3912     0.819\n",
        "3913     1.597\n",
        "3914     0.333\n",
        "3915    14.584\n",
        "3916     0.332\n",
        "3917     0.323\n",
        "3918     8.656\n",
        "3919    10.185\n",
        "3920     2.225\n",
        "Name: num_char, Length: 3921, dtype: float64"
       ]
      }
     ],
     "prompt_number": 8

    },
    {
     "cell_type": "markdown",
     "metadata": {},
     "source": [
      "Use  .describe() to get a summary on num_char"
     ]
    },
    {
     "cell_type": "code",
     "collapsed": false,
     "input": [
      "df.num_char.describe()"
     ],
     "language": "python",
     "metadata": {},
     "outputs": [
      {
       "metadata": {},
       "output_type": "pyout",
       "prompt_number": 9,

       "text": [
        "count    3921.000000\n",
        "mean       10.706586\n",
        "std        14.645786\n",
        "min         0.001000\n",
        "25%         1.459000\n",
        "50%         5.856000\n",
        "75%        14.084000\n",
        "max       190.087000\n",
        "dtype: float64"
       ]
      }
     ],
     "prompt_number": 9

    },
    {
     "cell_type": "markdown",
     "metadata": {},
     "source": [
      "Use plt.scatter() to plot the scatter plot of num_char and line_breaks"
     ]
    },
    {
     "cell_type": "code",
     "collapsed": false,
     "input": [
      "plt.scatter(df.num_char, df.line_breaks)\n",
      "plt.show()"

     ],
     "language": "python",
     "metadata": {},
     "outputs": [
      {
       "metadata": {},
       "output_type": "display_data",
       "png": "iVBORw0KGgoAAAANSUhEUgAAAYoAAAEACAYAAACtVTGuAAAABHNCSVQICAgIfAhkiAAAAAlwSFlz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\n",
       "text": [
        "<matplotlib.figure.Figure at 0x7fbe6f62ded0>"
       ]
      }
     ],
     "prompt_number": 15

    },
    {
     "cell_type": "markdown",
     "metadata": {},
     "source": [
      "Describe the relationship between the two variables."
     ]
    },
    {
     "cell_type": "code",
     "collapsed": false,
     "input": [
      "p = np.polyfit(df.num_char,df.line_breaks,1)\n",
      "plt.plot(df.num_char, df.line_breaks, 'k.')\n",
      "plt.plot(df.num_char,p[0]*df.num_char+p[1],'r-') # A red solid line\n",
      "plt.xlabel(\"# char\") # labels again\n",
      "plt.ylabel(\"line breaks\")"

     ],
     "language": "python",
     "metadata": {},
     "outputs": [
      {

       "output_type": "stream",
       "stream": "stdout",
       "text": [
        "r-squared: 0.915590684074\n"
       ]
      },
      {
       "metadata": {},
       "output_type": "pyout",
       "prompt_number": 39,
       "text": [
        "[<matplotlib.lines.Line2D at 0x7fb3e4af6e10>]"
       ]
      },
      {
       "metadata": {},
       "output_type": "display_data",
       "png": "iVBORw0KGgoAAAANSUhEUgAAAZEAAAEPCAYAAACDTflkAAAABHNCSVQICAgIfAhkiAAAAAlwSFlz\nAAALEgAACxIB0t1+/AAAIABJREFUeJzt3X98VPWd7/HX5BckkJCEgAGiQMUKWBQExBV7GSlaoV2J\n62b90VqsXaZdW2uv6y/c20v6u9baXu1taVmtaCXei7Z1tSVWYg2ydpWLRUSRBtHQAkZ+BfEHQoBz\n//ieM3NmMpPMrzO/8n4+HvOYc75z5pwvJ8N85vsbREREREREREREREREREREREREREREZIApBjYC\nT9j7zcBOO20jMN917BJgG7AVuMiVPh3YbL92t7fZFRGRXHIjsBJ43N5faqdFmgy8BJQC44DXAZ/9\n2nrgHHt7NXCxR3kVEZEEFHl8/gZgAXAvoYDgc227LQQeBnqATkwQmQWMAioxgQTgQaDRsxyLiEjc\nvA4iPwZuBk640izgemATcB9QbaePxlRzOXYCY6Kk77LTRUQky7wMIp8G9mDaPdwlj2XAeGAq8BZw\nl4d5EBERD5V4eO7zgEsw1VmDgSpMVdTnXMfcS6jBfRdwsuu1BkwJZJe97U7fFe2Cp556qrV9+/Z0\n5F1EZKDYDkzIdib6M4dQsBjlSv/vQIu97TSsl2FKKtsJlWBewLSP+Oi7Yd2S9Fi6dGm2s1BQdD/T\nS/czfTBNDEnzsiTi5iOU0R8AZ9n7bwJftNO3AKvs52PAda73XAesAMoxQeTJTGRaRET6lqkg0m4/\nAK7u47jv2o9ILwJT0pslERFJlde9syRP+f3+bGehoOh+ppfuZ+6INl4jn9lVfCIiEg+fzwcpxAKV\nREREJGkKIiIikjQFERERSZqCiIiIJE1BREREkqYgIiIiSVMQERGRpCmIiIhI0hREREQkaQoiIiKS\nNAURERFJmoKIiIgkTUFERESSpiAiIiJJy0QQKQY2EloetxZYA3QATwHVrmOXANuArcBFrvTpwGb7\ntbs9zq+IiMQpE0HkBsySt85CH7dhgshHgaftfTBrrF9uP18M/IzQHPfLgC8Ap9mPWGusi4hIBnkd\nRBqABcC9hALCJcAD9vYDQKO9vRB4GOgBOoHXgVnAKKASWG8f96DrPSIiA1YgEMDv97NgwQIOHjyY\nlTx4HUR+DNwMnHClnQS8bW+/be8DjAZ2uo7bCYyJkr7LThcRGdA6OjpYu3Ytra2tBAKBrOShxMNz\nfxrYg2kP8cc4xiJUzZUWzc3NwW2/36+1mEWkYFVUVAAwY8YMli9fHtd72tvbaW9vT1sevFxj/bvA\n1cAxYDBQBfwGmIkJKl2YqqpngImE2ka+bz8/CSwFdtjHTLLTrwTmAF+Kck2tsS4iA8Mzz8DcuXzh\nkku464EHqK6u7v89UaS6xrqXQcRtDnAT8PfAD4D9wB2YwFFtP08GWoBzMNVVbcAETEnlBeCrmHaR\n3wP3YIJMJAURESls778PY8bAO+9ATQ3s2wdFybdMpBpEMjlOxPl2/z5wIaaL71xCJY8twCr7uRW4\nzvWe6zCN89swDe7RAoiISGH77ndh6FATQJ5+Gg4cSCmApEOmSiKZopKIiBSev/wFJk4021deCStX\ngi89X9+plkS8bFgXEZFUnDgBfj+sW2f2d+40VVk5RNOeiIjkokcegeJiE0D+/d/BsnIugIBKIiIi\nuWX/fqirM9tnnAEbN0JpaXbz1AeVREREcsVXvhIKIH/+M7zySk4HEFAQERHJvhdeMA3lP/0p3HST\nqbqaNi3buYqLqrNERLLlyBGYNAnefNPsHzhgxn7kEZVERESy4ac/hcGDTQB57DFT+sizAAIqiYiI\nZNZf/wpjx5rtT34SVq/O+oDBVORvzkVEclDM6dktCxobQwHk9dfhySfzOoCAgoiISFpFnZ7dCRb/\n8R9w110moJx6anYzmiaqzhIRSaOw6dl/+EPTRffYMRg1CrZvh/LyLOcwvVQSERFJo5aWFpqamljn\n91M9dqwJIOvWwe7dBRdAQBMwioik1yuvwJQpZvvaa+G++7Kbn35oAkYRkVxw7Bicey68+KLZ7+qC\nk07q+z0FQNVZIiKpWrnStH28+CI89JBpOB8AAQRUEhERCRMIBOjo6KCiooKWlpa+l519+22orzfb\nM2fCn/4EJQPra9XLkshgzLK2L2FWK/yend4M7AQ22o/5rvcswaxeuBW4yJU+Hdhsv3a3h3kWkQEu\nahfdaK69NhRAXnkF1q8fcAEEvA0iHwIXAFOBM+3t8zFL3v4ImGY/Wu3jJwOX288XAz8j1NizDPgC\ncJr9uNjDfIvIABbWRXf58t4HrFtnJku8/374+tdN1dUZZ2Q4l7nD67D5gf1cBhQD3fZ+tJ4AC4GH\ngR6gE7OW+ixgB1AJrLePexBoROusi0gKYlVbtbS0EAgEWL58eXhV1uHDMH68qcIqK4O9e6GqKku5\nzx1eN6wXYaqz3gaeAV61068HNgH3Ac5faTSmmsuxExgTJX2XnS4ikrRY1VbV1dWsWrUqPIDcdRdU\nVJgA0tpqZt9VAAG8L4mcwFRnDQP+APgxVVPftF//FnAXpqoqLZqbm4Pbfr8fv9+frlOLSJ6KVuro\nt9oKzAjzCRPM9qWXwq9/baqy8lh7ezvt7e3ZzkZSvg7cFJE2DtNgDnCb/XA8ianOqgdec6VfCfw8\nxjUsEZFIc+bMsTDtsVZTU5NlWZbV3d1tNTU1Wd3d3b3fcPy4ZV14oWWZFg/L2rEjwznOHPu+JM3L\n6qw6QlVV5cCFmN5Y9a5jLiUURB4HrsC0n4zHNKCvB7qAQ5iA4gOuBh7zMN8iUmCilTqiVluBmSSx\nuBjWrDFrflgWnHJKprOcN7wsl00BHsAEqiLgV8CdmIbxqZjo9ybwRUybCcDtwLXAMeAGTBUYmC6+\nKzDBaDXw1RjXtAOriEjIwYMHozeWu3V3Q22t2T71VHj1VRg0KHOZzJJUpz3J78q93hRERCRxN91k\nGs/BrHd+zjnZzU8Gae4sEZFkbdwIZ59ttr/yFfjJT7KbnzykICIiA8/778PQoaH9fftg+PDs5SeP\naQJGERlYZs0KBZAvf9k0nCuAJE0lEREZGNavNwHE0dMzIOe6SjeVRESksFmWGSDoBJAnnjBpCiBp\noSAiIoXr9tuhyP6aq6w0wePTn85ungqMQrGIFB73Oh8Ae/bAiBHZy08BU0lERArL4MGhALJ0qSl9\nKIB4RiURESkMjz1mJkl0nDiR95Ml5gMFERHJbz09Zn0Px4YNMH169vIzwKg6S0Ty12WXhQLI+eeb\nqisFkIxSSURE8s/WrTBpUmj/gw+gvDx7+RnAVBIRkfzi84UCyIoVpvShAJI1CiIikh/uvju8odyy\nYNGi7OVHAFVniUiuO3QIhg0L7Xd2wtixWcuOhFNJRERy10c/GgoggYApfSiA5BQvg8hg4AXgJWAL\n8D07vRZYA3QATxFaQhdgCbAN2Apc5EqfjllGdxtwt4d5FhGPBQIB/H4/CxYs4ODBg9EPWrvWVF1t\n22b2jx+HX/wic5mUuHkZRD4ELsAshXumvX0+cBsmiHwUeNreB5gMXG4/Xwz8jNBqW8uAL2DWXT/N\nfl1E8lBHRwdr166ltbWVQCAQ/qIzQNDvN/ttbab0UaRKk1zl9V/mA/u5DCgGuoFLMGuvYz832tsL\ngYeBHqATeB2YBYwCKoH19nEPut4jInmmoqICgBkzZrB8+fLQC1/9KhQXm+2xY03w+MQnspBDSYTX\nQaQIU531NvAM8Cpwkr2P/XySvT0a2Ol6705gTJT0XXa6iOShlpYWmpqaWLNmDdXV1bBzpyl9OEvT\ndnebxvN+xFUtJp7zunfWCUx11jDgD5gqLTfLfqRNc3NzcNvv9+N3isUikhOqq6tZtWqV2XF32b3z\nTrjpprjP41SLgQkowXNKn9rb22lvb0/b+TLVxfcd4PeYBvK3gXqgC1NVtcc+Zhdwsus9DZgSyC57\n252+K9aF3EFERHLUypXw2c+G9q3Ef0vGrBaTPkX+uP7GN76R0vm8rM6qI9Tzqhy4ENgIPA44I4QW\nAY/Z248DV2DaT8ZjGtDXY4LNIUz7iA+42vUeEcknH35oSh9OANm8OakAAlGqxSQrvJwneQqm4bzI\nfvwKuBPTxXcVcAqmAf2fAKdC83bgWuAYcAOmCgxMCWYFJhitBr4a45qWleQHUkQ8Nm8ePP202f7U\np+B3v8tufgQAn6lSTDoWFNpk+woiImkUCATo6OigoqKClpaW5H7xv/QSTJsW2j9yJHzqdsmqVIOI\nOl+LSEx9junoj2WZqisngKxaZdIUQAqKgoiIxJR04/V3vhM+QNCyoKkpzbmTXKDqLBGJ6eDBgwQC\nAZYvXx5fVdb+/VBXF9rfvRtGjfIug5IytYmEUxARyZaRI2HvXrP9r/8KP/xhdvMjcUk1iGgqeBFJ\nzZNPwvz5oX1n/isZEBRERCQ5x49Diesr5Lnn4LzzspcfyYpEG9ZrMTPyishAds01oQBy1lmm4VwB\nZECKpySyFvh7+9gXgb3Ac8B/9zBfIpKLtm+HCRNC++++C0OHZi8/knXxlESGYaYd+QfMNOznAPO8\nzJSI5CCfLxRAli0zpQ8FkAEvniBSjJko8Z8wkyhCmmfeFZEctnx5eEO5ZcGXvpS9/EhOiac665uY\nOayew0yIeCpmmVoRKWTvvx9e0ujogNNOy15+JCfF0w9vOLA/Iu0jwBvpz07KNE5EJB1mzoQNG8z2\nVVeZqdulIGVisOGfgPmYNUHArIH+CHBGshf1kIKISCqefx7+7u9C+z094d14peBkYgLG7wBPAEMx\nU7I/Anwm2QuKSA5yJkt0AsjvfmfSFECkH/F8Qn6PWShqDSaQ/APwFy8zJSIZdNttcMcdZrumBg4c\nyG5+JK/0VYT5ScT+XGA7sAPTOyvWwlBuJ2O6BY+037McuAdoBv4ZM+YEzGJUrfb2EszCVMftazxl\npzsLUw3GLEx1Q5TrqTpLJF5dXeGTI+7dGz55ogwIXs6d9SKhrrw+176P+Lv49mAGJb6EKcW8iCnR\nWMCP7IfbZOBy+3kM0IZZJtcClgFfwPQQWw1cDDwZZz5ExK20FI4dM9vNzbB0aVazI/mrryCyIg3n\n77IfAO8Br2GCA0SPfAuBhzHBpxN4HbO2+g6gEhNAwJRuGlEQEUnMb34Dl10W2tdkiZKieBrWPwo8\nCmwB3rQfyXTvHQdMA563968HNgH3Ac5CBaOBna737MQEncj0XYSCkYj0p6fHBAsngLz4YqgxXSQF\n8QSR+4GfA8cAP/AAkGin8aGYQHQDpkSyDBgPTAXeAu5K8HwiEq9LLw0tSTtnjgkeZ5+d3TxJwYin\nd1Y5pm3Ch6lWagb+DHw9zmuUAr8GHgIes9P2uF6/F9OFGEwJ42TXaw2YEsgue9udvivaxZqbm4Pb\nfr8fv98fZzZFCsyWLXCGazjXBx9AeXn28iM5ob29nfb29rSdL97Bhh/HlCSeBnYD3wNOj/P8D2BG\nvLtn/R2FKYFgp88ErsI0qLdgJnl0GtYnYBrWX8D01lqP6XZ8D73bRNQ7SwTCq6kefBCuvjp7eZGc\nlomVDb8GVGC+wL8FVAGL4jz/bOCzwMvARjvtduBKTFWWhWlj+aL92hZglf18DLiOUE+w6zCN/eWY\n3llqVBeJ9OMfw403hvb1o0o8lkj0qQA+8CojaaKSiAxM77wD1dWh/R074JRTspcfyRuZmPbkPEzJ\nwBmlfhbws2QvKCJpNmFCKID8y7+Y0ocCiGRIPNFnPfCPwH9guugCvIomYBTJrmeegblzQ/vHj0NR\noitey0CXiTYRgL9G7B9L9oIihSYQCNDR0UFFRQUtLS1Uu6uVvHDiBBQXh/b/+Ee44AJvrykSQzw/\nW/6KaSAHMxHjTZiR5yICdHR0sHbtWlpbWwkEAt5e7LrrQgHkIx8xVVcKIJJF8ZREvoTpTjsGMzbj\nKeDLXmZKJJ9UVFQAMGPGDJYvX+7NRf76Vxg7NrR/8CAMG+bNtUQS0F89WAlmnEe+rB+iNhHJuIMH\nDxIIBFi+fLk3VVnuMR933RXehVckRV63iRwDxgKDgCPJXkSkEHneFvLQQ+GDBPUDSXJQPNVZbwL/\nCTxOaJyIM5W7yIDltIWACSirVq1Kz4k//DB8epJXX4XJk9NzbpE0i6dhfTtmmpEizESKlfZDZEBL\npS0kEAjg9/tZsGABBw8eDL0wd24ogFxyiSl9KIBIDkukHmwYpgRyyKO8pIPaRCRjUmkL8fv9wVJM\nU1MTq5YsCZ9Z98iR0My7Ih5KtU0knjfOBH6JmTML4CBmhcENyV7UQwoikrMCgQBPPPEER44coaio\niP379zNj+nT+34svhg569NHwRaMynL+MjneRnJCJwYa/xEx+uM7eP99OOzPZi4rku2S+cDs6Oujq\n6gru31lVxU1OACkqMiPOs8izNh4paPEEkWOEAgiYRnaNWJcBLZkvXKcNZTiwD+CQXTP81ltQX+9N\nRhOQkfEuUnD6alifbj/WAr/ArGrox6xKuNbrjInksmS+cFtaWrCwAwjArbeahvMcCCBg8tfU1MSa\nNWtUlSVx66serJ3QWh6R77GAXJxrQW0ikhEJN6rffTd87Wuh/RMntL655IRMNKznEwURyS09PeG9\nrB55BP7xH7OXH5EImVhPJBUnA89gpo5/BbM6IkAtsAbowMzF5f4ptwTYBmwFLnKlTwc226/d7Wmu\nRdJhyJDwAGJZCiBScLwOIj2YNdTPAM7FTNw4CbgNE0Q+ilm3/Tb7+MnA5fbzxZjFr5wIuQzTtfg0\n+3Gxx3kXSc769aaq6gN7gocDBzRlSRrFHKgpWRHveiLJ6rIfAO9hppAfA1wCzLHTH8C0v9wGLAQe\nxgSfTuB1YBawAzNKfr39ngeBRrTOuqTI3VV3xIgR7NixI7VxEu52jkAAfvGL9GVWAHVFzjXxBJEh\nwI3AKcBiTCngdOB3CV5rHGZlxBeAk4C37fS37X2A0cDzrvfsxASdHnvbsctOF0ma8wX0zjvvADBi\nxAj27t0b9lrcFi+Ge+8N7avk4Rl1Rc4t8VRn3Q8cxay1DrAb+E6C1xkK/Bq4AXg34jWL6L3ARDzV\n0dERDCA1NTWcddZZQIJfTt3dpvThBJD16xVAPKauyLklnpLIqcA/AVfY++8neI1STAD5FfCYnfY2\nUI+p6hoF7LHTd2Ea4x0NmBLILnvbnb4r2sWam5uD236/H7/fn2B2ZaBwftHW1NSwceNGhg0blli3\nXXfVVWVlaPCgeKq6ulpVWClob2+nvb09beeLp1vXn4BP2M/TMEHlYeCcOM//ALAf08Du+IGddgem\nLaTafp4MtNjnHgO0ARMwJZUXML271mNmFb6H3m0i6uI7gKQ611PSEyiuWgWXXx7aP3oUSksTurZI\nrsjEOJGLgH/DfMGvway3fg2m625/zgeeBV4mVGW1BBMIVmHaWToxJR2nm8XtwLWYqVVuAP5gp08H\nVgDlwGpC3YXdFETyTCqBoNdMuF7/OrUsM8eV45574Prrvb2miMcyNdiwDtNFF0zD974+js0mBZE8\nk0ogWLBgAa2trcyYMcP7+vGzz4aNG0P7+pxJgcjUYMNBQDemUXwy8N+SvaDkJ6/65qfS0yYjDazb\ntpm2DyeA/O1vCiAiLvFEnzswAwC3AO65qv/ekxylRiURj3hVdZTKwk7xSrrKzN1wftFF8Ic/xD5W\nJE9lYj2RSzHjQo4kexHJf171zc9ET5uEB6d985uwdGloX5MlisQU7xrrWqdzgMvnvvlxB8DDh02w\ncAJIa6upuvIogGj6DikE8fzv+A1wFmaOK6c0YhG9d1S2qTory3JxidW4qswiA0UGPkcZ710mEkUm\nqrMetx9u+qYuYKkEglyc16jPKrP2drjAtTTOu+/C0KEZyZem7xDJPZakbs6cOc5UNFZTU1NC750/\nf74FWDNmzLC6u7utxYsXW3PmzLHmz59vdXd3e5TjJJnyhnncemvGL9/d3W01NTXl3n2RAQUPCwWP\n2M+bozxe9uqiKcr236MgRAaCRER+MaYSkDxz2WXhAURkACPFINJXPdhozGSL42K83pnKhT1i3xNJ\nRTq73WZ0QGB/urpg1KjQ/iuvwBlnZC8/IjlAy+OGUxDJMZkYBxIXd8P5+PHwxhvZy4tIDvEyiLxH\n7GKOBVQle1EPKYhIuPvug3/+59D+8ePh81+JDHAqiYRTEBHj+HEocXU+XLECFi3KWnZEclUmuvhK\ngfJiTEdOjBM55RQzx5VDPyxEPKNy/QDmjOlobW0lEAjkxDlTGsX98sum7cMJIG+/rQAi4jGVRAaw\ndA52c0ogr776asLndJdeDh06xHPPPRdMj3uworvh/Ior4OGHE8q/iAioz39C0jnYzT0epKGhIaFz\nut9bX1+f2BiVG2/0bMxHTg+UFEkTUhwn4nV11i8x66lvdqU1Y9ZN32g/5rteWwJsA7ZiVlR0TLfP\nsQ2427vsDizOdCDpaLdwl2o2b96c0Dnd733++efjm+jx3XdN6eNHPzL7zz6b9qorL6r7RCQxH8es\ny+4OIkuBG6McOxl4CSjFDHB8nVCPgfWE1nRfDVwc43rZDuoFI9Ff4amUahJ+r7vk4eHfPJWR+yL5\nghwviazDrIgYKVp3soXAw0APZjT868AsYBRQiQkkAA8CjenOqIRL9Fd4KqWauN/74IPhbR8ffuhp\nw3k+T38vkinZ6p11PbAJuA9w/neOxlRzOXYCY6Kk77LTxUM5NcOss6aHM87je98zaYMGeXrZdFb3\niRSqbPTOWgZ8097+FnAX8IV0nby5uTm47ff78fv96Tr1gNLS0sLZZ5/NoEGDuOqqq7I35qOoKLy0\noS67Iilpb2+nvb09befLxIj1ccATwJR+XrvNTvu+/fwkpv1kB/AMMMlOvxKYA3wpyvnsKj5Jh6wu\nmvTaazB5cmh/0yY488zMXV9kgEh1xHo2qrNc06hyKaFG98eBKzBL8Y4HTsO0g3QBhzDtIz7gauCx\nTGV2IMtalZbPFx5ALCtqANHysiLZ53VJ5GFMqaEO09V3KeAHpmJ6BLwJfNF+DeB24FrgGHAD8Ac7\nfTqwAijH9M6KtTSvSiJp1N8MvGmf4uS662DZstD+iRO9lq2NNTBRy8uKJEcTMIZTEOlDX1/6yQSE\ntFV3ffghlJeH9u+5B66/vt9r1tfX09XVlRtrlYjkqXyszpI0i7dap69uu8kMrEtLdZfPFx5ALCtm\nAIm8ZtwDE0XEMyqJFIDIEkF1dXXUUkXkKoO33HJL8Lienh7a2tr6/FUfWVpx0hJdcCoQCFDzX//F\nHa+8EkrcswdGjOj3vTmzyJVIgUi1JFJosjfsM4siR1bHWtc8cmS4M08VYC1YsKDfUeNpWy/dNdq8\no7Y2+fOISMrI8RHr4rFAIMChQ4eor6/n0Ucfpbq6OmY1U+TguSNHjgRfKy0t7XdgXcrVV2eeGdZQ\nPnPGDEZs3574eUQkZyiI5KhE2jmee+45urq6uPnmm4He03W4z7Vo0SJGjRpFbW1t8BxDhgzh/fff\n77ebbDLTgAQCAf7hvPNM8NhsenN/7YwzGOUKeiIiuSLbJcO0ibfqKNYkge4JFGfPnh0814gRI4Lb\ngFVWVpaeKqpYIiZL7O/ftXjxYqu+vt6qqamx5s2bp4kPRTxGitVZhSbbf4+0iXcG2Vgz4EZbo6Ou\nrs6qrq4Opk+bNs2aN2+eNzPV3nFHWPA49+yzre7u7n7/Xe5841VgE5EgFETCZPvvkTapTK2+ePFi\nq6amxgKsqVOnWp2dnVZTU1NYiWT06NFWd3d3WhemsizLso4fDwseh6+7Luz8/V3PCTJO3lUSEfEW\nKQaRQuvWZd+Tgc3d5bexsZHf/va3QHgX38mTJ7Njx470jTaHXqPLE5ks0ek+XFpaSllZGaWlpaxY\nsUJtJiIeUxffcNkO6jkhVpWRuxSQtu66lmVZGzaEt31s25bwKdzdjRsbG1PLj4jEDXXxlUixelG5\nu/imbXJFnw9mzDDbQ4aYMDJhQq/DAoEAFRUV+Hw+SktL8fv9Yb3B3N2NLZUmRfKGgkgBimcxpZRX\n7WtqCq++OnEC3nsv5uEdHR0cPnwYgGPHjrF27VomTZoUHIHuBI6PfexjrFixIvH8RAgEAsGuzBde\neKFm+RXxiIJIjvJymvNAIEBjYyPv9fGlH9N775ng8eijZv+BB0IrD/bBKfm4dXV18fnPf56Ojo7g\nv3HChAlpaQfp6Oigq6uL7u5u2tra4p4PTEQSoyCSo5KZENHzc/t8UFkZ3F0wfz4HL7kkrre2tLQw\nZMiQXumWZYVVrd1///3x54fYwdYdtKZNm5b9JX5FJC9kuYkqffoaRFhfX2+VlZVZ1dXVSQ3Ii3cM\nStDDD4c1nJ/iGmuSSKP8sGHDwsaAOF14U+lm3Nc8YQsXLrQaGxvVTVikD6iLbxj7nuQ/p62gvLw8\nrCtuY2NjsPuuI9ZaHk632e3btzN27FiqqqoSn33XVU31p9paZh84ENxPdB2PESNGsG/fPsrLy7ng\nggtYuXJlUlVX7tmE45l9WERiy/Uuvr/ErFq42ZVWC6wBOoCnAPf/+iXANmArcJErfbp9jm3A3X1c\nL9tBPe0if2m7B+NhjzqP9Us7cvQ3cZYcFi9ebO0vLQ3vtmuFSjBTp05N6hd+Z2en1dDQYHV2dsZ1\nvHvqlu7u7uC+M5ASuztwWgdLigww5PiI9Y8D0wgPIj8AbrG3bwW+b29PBl4CSoFxwOuEouN64Bx7\nezVwcYzrZfvvkXbuqqcJEyZYVVVVls/ns6qqqqyRI0f2+YXsvLeqqir+6qs33ggLHkvmzg2+lPbR\n7f1wjx1ZuHBh2H7c/x4R6RM5HkTABAR3ENkKnGRv19v7YEoht7qOexI4FxgFvOZKvwL4eYxrZfvv\nkXbuL+7INgX6KVk473WmPYn8wo38pR85WWK2v6QjSxzufWfaFhFJDXkYRLpd2z7X/k+Az7heuxe4\nDFOVtcaV/nHgiRjXyvbfw1N1dXUWYBUVFaX0SzyyWui7EcGje9++nKgiciaHdKrsnH3NqSWSPqQY\nREpSeXMxjrp2AAASPUlEQVQapD0KNjc3B7f9fj9+vz+dp/dc5BK07obiDRs2cP755/P73/+eb3/7\n2302jPd1HqeLbzERN//b34Z/+zeqoVdDfV/nS+Xf1JdHHnkkrAPA6NGjqauro66uLu5ri0i49vZ2\n2tvbs52NhIyjd3VWvb09ilB11m32w/EkMMs+1l2ddSUFXJ2Vrjmt+jrP/Pnze1VdeZmvTPybRCQ5\n5OHcWY8Di+ztRcBjrvQrgDJgPHAapkG9CziECSg+4GrXewrOdnu52GHDhnHnnXcCyY1edwbb1dXV\n8eyzzwan/3h/2TJWt7aGDty5M67ZdlOZaytd83Slbb4vEckbDwO7gaPA34DPY7r4thG9i+/tmF5Z\nW4FPutKdLr6vA/f0cb1sB/WEOe0TDQ0N1uzZs8Maz51f28n8Anca1d1riEQrffRqXO/nfNGO6e8c\nyfbqijxvpnuHiQwE5EHDeiZl+++RsGhjOYhoNE94hLlLtKordyBKtorI/QU/cuRIT6ZxV/WViPfI\n84b1ghBPw3GsYyInJiwrK6OyspLdu3czevRojh49SlVVFQsWLGDlypXccsstcTVSBwIBDmzezOrn\nnw+m3Qr8sq6O03fv5uSTT6anp4f9+/cDZtTq008/zY4dOxg7dmy//2ancR6gtLQ0mG6lccYAVV+J\nSKZlJZLH84u5rzmenEF0NTU11qxZs6KWTCoqKnqN1nbOE7U6KbLbbpTqrWiPhoaGuP7N7tKR829L\nd9dbVV+JeA9VZ4XJyh8hnuom9zGf+9znYtb1O8dFDix0B4/I87hfaxs/Pix4zImYFiXa+YuLi4OB\nKt4pSdx51pe9SP5CQSRMVv4I8XyJdnd3W+PHj7dmz54d9qU/fvz4qAGls7MzOLjwYx/7mDV69GgL\nsHw+X8xShDt4HK+piZon9/mdWW43bdoUnNMq3oZ2ESkMpBhEcnbmxiTZ9yR3uNtCDh06xHPPPRd8\nberUqQwZMiSYFjkbrzOT7/Llyxk+fDgnTpyIeo1e/+IU7oHf7w+2dcSaHTiXpTIoUmQgSnUWXzWs\ne8zdAF1WVhb22rhx49iwYQMAVVVVwXEhjurqal5++WVqamqintsPPONOaGuDT3wipfwm25idK1/e\n7vsdCATyLgiK5ButbOgxd++ro0ePMmjQICC0ip/TE+rQoUPcfPPNTJw4kerqaoqLi/H5fPzlL3+J\nel6LiABiWTEDSCKDFUeMGEFdXV3CQcDLlRgToR5dIpKKbFcv9uLufVVXV2fV1dVZpaWlVn19vTV7\n9uxgu4fTKE8fPacAa3fkgMETJ/rNg7tnWFlZmXXFFVcE2z0iG/nj6WkWrd0klbEs6aRGfpHEoIb1\nMNn+e0TVX/faQYMGWVdccUWfjeZDIoPHNdcEzx856t29iFN9fX2v85aVlQW3S0tLw4JGPMEgWqDR\nl7dIfkIN62Hse5J5EydOpKuri9LSUjZs2MDYsWN7tRNcddVVtLrnrYpTtIbzvhrsAQYNGsSRI0ei\nnq+uro59+/aFpTnLy0L/S+cuWLCA1tZWLUkrUgByfXncTMtaNHePu2hoaLAWL14cljZ48OCYAwlj\nPX4eUfp4Z9Mmy7KsXucuLy8PG+8xdOjQmOc844wzrM7OzrASSKILPKnUIVI4UEkkjH1PvBdZyjjt\ntNPYt28fFRUVbNmyhUWLFgV7CSUj8l8xqr6eI0eOMH36dF5++WX27NkDmB5cp59+Oi+88AIQmjbF\nmc4EoLKyknPPPZchQ4Zw//33U11dzYUXXkhbWxvTpk3jj3/8o0oTIgNUqiURBZEkRY6nuPPOO5k8\neTJTpkyhtraWnp4e2traKCkp4dixYwwbNox33nmn3/NG5t5H7+on55xgqpYsy6K1tTUsffDgwVRU\nVFBSUsL69et7zYflHoOiACIycKk6K1zGioBOA/TQoUOtefPmWRMmTAhWJ2E3lpeWllqzZ8+2Fi5c\n2G/V1bkRVVf3EJrexFkW1nk4Pbqcuaqc6qXq6urgMcOHD++3l5WICKrOCmPfE2+4q7CWLVvGzJkz\n2bt3LxBeOkhUtNKHz+dj1KhRjB8/nvLycjZt2sTevXspKSlhyJAhDBo0iPXr1/Od73wnmKcPPviA\ntWvXMm3aNIYPH05bW5sav0WkTyqJhPM0Yru7tpaUlAS3J0+ebNXW1ibUaE5kl12wKuz0oqIia9Om\nTWHXO+WUU8KuiV3CcB8zcuRIq7GxMe5JETVPloiQx+NEOoGXgY2YZXDBrHq4huirHi4BtmFWPbwo\nxjk9vdlOFVa0R1VVVXA8RmVlpVVUVBTz2LGjR/cKIO7Xy8rKrIaGhmD11LRp08IWfnLSuru7rYaG\nhrD0yAkdLSt2sNCiTyJCHgeRNzFBw+0HwC329q3A9+3tycBLQCkwDrNMbrQpWzy92c5MvMQIDu5u\ns7EekcGjvr7emj59ep/vWbhwYdgAwZEjR1oTJkywhg0bFtYOU1NTEzagccSIEdb8+fPD0tzBIldG\nmYtI9pDnQWR4RNpW4CR7u97eB1MKudV13JPAuVHOmfINjfar3Z3W36JOsR63RASPT/dzvBOQqqqq\nrM7OzrBxIaWlpVZlZWXY8T6fz5o+fXqw0d1dEnKmXYkMFhrvISLkcRB5A1OVtQFYbKd1u173ufZ/\nAnzG9dq9wGVRzpnyDY1WxeNOcwb2JfLoq+oq2mPMmDFh7R8jR47stRZ7X1OkuB81NTVWZ2engoWI\nREWKQSSbU8HPBt4CRmDaQbZGvN7fPy7qa83NzcFtv9+P3+9PKFPRZoF1pxUXFwcH9vUnMoMlxcUc\nP368z/dMmjSJ2tpadu3aFUzbs2cP5513HmVlZRw9epSKigrmzp3L6tWr8fl8HD9+nKKioqjrjbS3\ntzN27FhNiS4igPlOaG9vT9v5cqVb11LgPUyJxA90AaMws51PBG6zj3PaSJ603xP5bW4H1uQ5g/DK\ny8vZsWMHFRUVDBs2jN/+9reUl5dTVFTEgQMH+jzHycBfXfvrgVkJ5KG+vp6urq7g/tSpU3nmmWd4\n5513OPXUU6moqODdd98Ne8/w4cPZv38/lZWVYa/V1dUxc+ZMLdAkIlHl64j1CqAYeBcYgumJ9Q1g\nHrAfuAMTOKrt58lAC3AOMAZoAybQ+8d+ykHE4R6RXlpaSk9PT/C14j5KFJFXj+cGn3nmmYwcOTI4\nruPRRx/la1/7GkePHqW0tJQtW7bQ2dnJsWPHiPXvW7BgAa+99hojR45k48aNHD16lKFDh/Lee+8B\n+blKoYh4L1/HiYzH9LZ6CXgF03AOprdWG9G7+N6O6ZW1FfhkjPOmpY5w8eLFYeugx/PYEdHu0ZDA\nexcuXNirkTveNg/AOu2003qtBdLQ0BAc6a7eVyISC3ncsO6FpG6is+5GTU2NNW/evF5jMtzdaKM9\nEm04dz98Pp81Z86cXj3B+nvf9OnTraKiIsvv98dcGEq9r0SkP6QYRPKuCNMP+54kxl11ldDFIvZT\nuZm1tbXMmjUr6togYKrUjh8/zokTJ5gyZQrPPvtssI3DmY6ltLSUoUOHBmfqFRHpT6rVWVpjnfB1\n0OPxWcIDyLeJ/y8wefJk548W5sCBA7S2trJ9+3YATj311OBrq1ev5rzzzgv2vvrIRz5CdXV1cO30\nRx99lLVr19LW1kZpaakCiIhkjIIIMGLECMrKyuI61gJ+5dr3AV+P8zq1tbUcOHCA4uLiqK/X1NTw\n/PPP09TUxIYNG7AsC8uymD9/flg34xUrVgDQ0dHB2rVr6e7uDr7mdEsGgkFmwYIFHDx4MM5ciogM\nXAnVBTptISQxYLCkn+MjJ0v0+Xxho84jH87I9FiitW84bSBTp04NTrzoprmxRKQ/qGE9TEI3L54A\nMjSJhvOSkpKEl8JtbGxM+I/fX8O55sYSkf6ghvUw9j2JzWmE3r59O7t37446yjt4soj9eG6Wz+ej\ntrY2bHnaaNwjzGtqanjjjTfS3pah1QtFpD/5OtjQK/0GkXh6Yq0DznftX4SZlyVZJSUl+Hy+sAGL\njpqaGjZu3Nhr+VoRkUxINYhkc+6sjAsEAqxbt67PY9LZbddx0UUXcfToUdra2oLTkkybNo1TTjmF\nFStWqJQgInlrQAWRjo6OmNVXXgQPMFOarFy5EjBB7M477+Tmm29WFZOIFIQBUZ0VCAR46KGHOHz4\ncK/XzsdUXzkO0HuRk2RMnDiR008/XSUNEclpqs7qw8SJE3njjTeitkVA+ksfZ511Fps2bQLg9NNP\n57HHHkvxjCIiua2gBxt2dXVFDSCRfdrqSU+R7K233gLCBwSKiBSygi6JlJaWhu37gMgWkVSCR2Vl\nJYcPH+bYsWOACR5DhgxRe4eIDBgFGUScsSD79u0LpqWj6qq4uJi5c+dy6NAhXnjhBd59911KSswt\nnDJlCitXrlTwEJEBpSCrs5544ongWJD/SXgAuY3kAsjIkSPZt28fTz31FLW1tQAMHTo0WApxJkUU\nERlI8q131sXA/8KsingvZgVEN8uyrOAsuelqOI+cet0ZCd7d3R1cjXDNmjUKIiKSdwbSVPDFwP/G\nBJLJwJXApMiDfD5fr4ZzH/HfoerqalavXs3gwYNZt24dTU1NYQHEOWbVqlU88sgjNDU1FWQAaW9v\nz3YWCoruZ3rpfuaOfAoi52CWx+0EeoD/AyyMPCiZ0sfw4cPZtGkTTU1NvPnmm8yfP5/Dhw9z/vnn\ns2rVqpgBwgkmhRZAQP9J0033M710P3NHPjWsjwH+5trfCcyKdXB/wWPMmDHMnDmTqqoqduzYwac+\n9SnGjh3LVVddRUtLS0EGBhGRdMunIBLXdMUTgO39HHP//fdzzTXXAOETMu7cuRMwvbtWrVqVbD5F\nRAaMfGpYPxdoxrSJACzBDPtwN65rcRURkcRsx/z+LnglmH/sOKAMeIkoDesiIiKxzAf+gmlgX5Ll\nvIiIiIiIyEB3MbAV2AbcmuW85KtO4GVgI7DeTqvFLOrYATwFqMtadL8E3gY2u9L6undLMJ/VrZiF\nMyVctPvZjOmRudF+zHe9pvsZ28nAM8CrwCvAV+10fT5dijHVW+OAUtRWkqw3MR8stx8At9jbtwLf\nz2iO8sfHgWmEf+nFuneTMZ/RUsxn9nXya7xWJkS7n0uBG6Mcq/vZt3pgqr09FNMcMAl9PsP8HfCk\na/82+yGJeZPe63FtBU6yt+vtfYluHOFferHu3RLCS8tPYnoeSrhx9A4i/xrlON3PxDwGzCONn89C\niDDRBiGOyVJe8pkFtAEbgMV22kmYagXs55OivE+ii3XvRmM+ow59XuN3PbAJuI9Q9YvuZ/zGYUp4\nL5DGz2chBBGNDUmP2ZgP2Hzgy5gqBbfIKckkfv3dO93X/i0DxmOqZt4C7urjWN3P3oYCvwZuAN6N\neC2lz2chBJFdmMYjx8mER1KJz1v2817gt5i5yt7GFHUBRgF7spCvfBXr3kV+XhvsNOnbHkJfdvdi\nPp+g+xmPUkwA+RWmOgvS+PkshCCyATiN0CDEy4HHs5mhPFQBVNrbQzA9MjZj7uMiO30RoQ+g9C/W\nvXscuALzWR2P+eyu7/VuiTTKtX0pofYS3c+++TDVf1swy2g49PmMoEGIqRmP6ZHxEqYboHMPazHt\nJOri27eHgd3AUUz73Ofp+97djvmsbgU+mdGc5ofI+3kt8CCmC/omzBeeu31O9zO28zHTQ71EqHv0\nxejzKSIiIiIiIiIiIiIiIiIiIiIiIiIiIiIC8D3ADzSS2ESf4wifUFCkIBTCiHWRTDoHeB6YAzyb\nwesWZ/BaIiKSZj/AjJY+hBn1e8je/x9Rjj0JM/+YMwvAuZiSyBZgOWZWgD8Ag+3jF2OmlngJeBQo\nt9NXAD/HBK0fpvefIyIimTYDuBsoAf6zj+P+L6EV5IqAKkwQ6QHOdB3zGXvbvRjYt4Cv2NsrMHMZ\n+VLLtoh3SrKdAZE8Mh0zf9Mk4LU+jrsA+Ky9fQJTaqnFLPz1sp3+IiawAEwBvg0Mw0zZ7SyyZgGP\noKnNJYcpiIj07yxMqaAB2IeZ9dgH/Bk4D/gwynuilR6OuLaPE6rOWgFcgml4X4RpuHd8kHSuRTJA\nDesi/duEWbCrA1MK+SNmuvyziR5Angb+xd4uxlRnRfIRCjRDgS7Mug+fRSUPySMKIiLxGQEcsLcn\n0vd68zdgqrRexqx3M8lOdwcH92pyX8csWfqf9K4mU0ARERERERERERERERERERERERERERERERER\nERERkdz1/wFCaTpiAqc5NAAAAABJRU5ErkJggg==\n",
       "text": [
        "<matplotlib.figure.Figure at 0x7fbe6f3a5490>"
       ]
      }
     ],
     "prompt_number": 24

    },
    {
     "cell_type": "markdown",
     "metadata": {},
     "source": [
      "Use  .hist() to get a histogram on num_char"
     ]
    },
    {
     "cell_type": "code",
     "collapsed": false,
     "input": [

      "df.num_char.hist()"
     ],
     "language": "python",
     "metadata": {},
     "outputs": [
      {
       "metadata": {},
       "output_type": "pyout",
       "prompt_number": 25,
       "text": [
        "(array([  3.19100000e+03,   5.89000000e+02,   7.90000000e+01,\n",
        "          3.70000000e+01,   1.00000000e+01,   5.00000000e+00,\n",
        "          2.00000000e+00,   3.00000000e+00,   3.00000000e+00,\n",
        "          2.00000000e+00]),\n",
        " array([  1.00000000e-03,   1.90096000e+01,   3.80182000e+01,\n",
        "          5.70268000e+01,   7.60354000e+01,   9.50440000e+01,\n",
        "          1.14052600e+02,   1.33061200e+02,   1.52069800e+02,\n",
        "          1.71078400e+02,   1.90087000e+02]),\n",
        " <a list of 10 Patch objects>)"

       ]
      },
      {
       "metadata": {},
       "output_type": "display_data",
<<<<<<< HEAD
       "png": "iVBORw0KGgoAAAANSUhEUgAAAYIAAAEACAYAAAC+gnFaAAAABHNCSVQICAgIfAhkiAAAAAlwSFlz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\n",
       "text": [
        "<matplotlib.figure.Figure at 0x7fbe6f33b890>"
       ]
      }
     ],
     "prompt_number": 25
=======
       "png": "iVBORw0KGgoAAAANSUhEUgAAAYIAAAEACAYAAAC+gnFaAAAABHNCSVQICAgIfAhkiAAAAAlwSFlz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\nQmCC\n",
       "text": [
        "<matplotlib.figure.Figure at 0x7fb3e5821f10>"
       ]
      }
     ],
     "prompt_number": 11
>>>>>>> 599d9a5b3f871a14eb589bc1840177fc00afe136
    },
    {
     "cell_type": "markdown",
     "metadata": {},
     "source": [
      "Take the log of num_char, by using np.log "
     ]
    },
    {
     "cell_type": "code",
     "collapsed": false,
     "input": [
<<<<<<< HEAD
      "df.num_char_log = np.log(df.num_char)\n",
      "df.num_char_log"
     ],
     "language": "python",
     "metadata": {},
     "outputs": [
      {
       "metadata": {},
       "output_type": "pyout",
       "prompt_number": 55,
       "text": [
        "0     2.430978\n",
        "1     2.351756\n",
        "2     2.050656\n",
        "3     2.584450\n",
        "4     0.207827\n",
        "5     0.087095\n",
        "6     1.576295\n",
        "7     2.004314\n",
        "8     1.115469\n",
        "9     0.971915\n",
        "10   -0.140412\n",
        "11    1.391282\n",
        "12    2.347463\n",
        "13    2.713038\n",
        "14    2.980263\n",
        "...\n",
        "3906   -2.617296\n",
        "3907   -4.199705\n",
        "3908   -1.390302\n",
        "3909   -1.075873\n",
        "3910    0.876302\n",
        "3911    0.053541\n",
        "3912   -0.199671\n",
        "3913    0.468127\n",
        "3914   -1.099613\n",
        "3915    2.679925\n",
        "3916   -1.102620\n",
        "3917   -1.130103\n",
        "3918    2.158253\n",
        "3919    2.320916\n",
        "3920    0.799757\n",
        "Name: num_char, Length: 3921, dtype: float64"
       ]
      }
     ],
     "prompt_number": 55
=======
      "num_char_log = np.log(df.num_char)"
     ],
     "language": "python",
     "metadata": {},
     "outputs": [],
     "prompt_number": 13
>>>>>>> 599d9a5b3f871a14eb589bc1840177fc00afe136
    },
    {
     "cell_type": "markdown",
     "metadata": {},
     "source": [
      "Produce a histogram of the log values"
     ]
    },
    {
     "cell_type": "code",
     "collapsed": false,
     "input": [
<<<<<<< HEAD
      "plt.hist(df.num_char_log)"
=======
      "num_char_log.hist()"
>>>>>>> 599d9a5b3f871a14eb589bc1840177fc00afe136
     ],
     "language": "python",
     "metadata": {},
     "outputs": [
      {
       "metadata": {},
       "output_type": "pyout",
<<<<<<< HEAD
       "prompt_number": 56,
       "text": [
        "(array([    4.,     5.,     7.,    47.,   192.,   729.,   842.,  1257.,\n",
        "          775.,    63.]),\n",
        " array([-6.90775528, -5.69223156, -4.47670785, -3.26118414, -2.04566042,\n",
        "        -0.83013671,  0.38538701,  1.60091072,  2.81643443,  4.03195815,\n",
        "         5.24748186]),\n",
        " <a list of 10 Patch objects>)"
=======
       "prompt_number": 14,
       "text": [
        "<matplotlib.axes.AxesSubplot at 0x7fb3e582af90>"
>>>>>>> 599d9a5b3f871a14eb589bc1840177fc00afe136
       ]
      },
      {
       "metadata": {},
       "output_type": "display_data",
<<<<<<< HEAD
       "png": "iVBORw0KGgoAAAANSUhEUgAAAXsAAAEACAYAAABS29YJAAAABHNCSVQICAgIfAhkiAAAAAlwSFlz\nAAALEgAACxIB0t1+/AAAEZ5JREFUeJzt3X+MHOV9x/H3lrMbCDbmSmv8g8qG2AKnNCUEgwSUpQmu\nE0XY/xSMVOQArZpaCUSNCD6Q4uMf6iYiYLUiUkMgpgpuXUotOzKOHeJRUEvtlN/x4frsYodz60si\nHOxESrHl7R/Pc77Ncb929nbnxs/7Ja129tmZeb7A8tnZ78zegiRJkiRJkiRJkiRJkiRJkibIE0A/\n8MYwz30ROAV01o11Ab3AXmBJ3fiVcR+9wLqWVCpJyu164AreH/YXAduAtxgM+0XAq8AUYB6wH6jE\n53YDi+PyVmBpyyqWJL3Pb4zx/AvA0WHGvwZ8acjYMmADcAI4SAj7q4FZwDRC4AM8BSzPV64kKY+x\nwn44y4A+4PUh47Pj+IA+YM4w44fjuCSpTToaXP8c4H7gprqxygjrSpImiUbD/hJCP/61+Hgu8BKh\nXXOY0Mun7rm+OD53yPjhYXd+ySW1AwcONFiSJCXvAPChZncyj+GvxoHhT9BOBebHyQeO+ncR3hAq\njH6CtlZma9asKbqE3Mpce61m/UWz/mIBtbGCfKye/Qbg34GFwNvAHUPDuW65B9gY758DVtU9vwp4\nnHDp5X7ClTySpDYZq41z2xjPXzzk8UPxNtRLwOXjLUqSNLHyXI2jEVSr1aJLyK3MtYP1F836J7/J\ndiVNbD9JksarUqnAGHnukb0kJcCwl6QEGPaSlADDXpISYNhLUgIMe0lKgGEvSQkw7CUpAYa9JCXA\nsJekBBj2kpQAw16SEmDYS1ICDHtJSoBhL0kJMOwlKQGGvaQRTZ/eSaVSaett+vTOov+xz0j+UpWk\nEYVfQGr3/5MVzIHG+EtVkiTAsJekJBj2kpSAscL+CaAfeKNu7KvAm8BrwLPAeXXPdQG9wF5gSd34\nlXEfvcC65kqWJDVqrLB/Elg6ZGw78GHgI8A+QsADLAJujfdLgccYPGHwdeAuYEG8Dd2nJKmFxgr7\nF4CjQ8Z2AKfi8i5gblxeBmwATgAHgf3A1cAsYBqwO673FLC8maIlSY1ptmd/J7A1Ls8G+uqe6wPm\nDDN+OI5Lktqko4ltHwDeA56eoFoA6O7uPr1crVapVqsTuXtJKr0sy8iyrKFtxvOlqnnAFuDyurHP\nAH8OfBz4VRxbHe/XxvttwBrgELATuCyO3wbcAHx2mLn8UpU0ifilqnJo1ZeqlgL3Enr0v6ob3wys\nAKYC8wknYncDR4BjhP59Bbgd2JRjXklSTmO1cTYQjsIvAN4mHKl3EQJ9R1znRWAV0ANsjPcn49jA\n2/Mq4FvA2YQe/7aJ+geQJI3Nv40jaUS2ccrBv40jSQIMe0lKgmEvSQkw7CUpAYa9JCXAsJekBBj2\nkpQAw16SEmDYS1ICDHtJSoBhL0kJMOwlKQGGvSQlwLCXpAQY9pKUAMNekhJg2EtSAgx7SUqAYS9J\nCTDsJSkBhr0kJcCwl6QEGPaSlICxwv4JoB94o26sE9gB7AO2AzPqnusCeoG9wJK68SvjPnqBdc2V\nLElq1Fhh/ySwdMjYakLYLwSej48BFgG3xvulwGNAJT73deAuYEG8Dd2nJKmFxgr7F4CjQ8ZuBtbH\n5fXA8ri8DNgAnAAOAvuBq4FZwDRgd1zvqbptJEltkKdnP5PQ2iHez4zLs4G+uvX6gDnDjB+O45Kk\nNulocvtavE2Y7u7u08vVapVqtTqRu5ek0suyjCzLGtqmMvYqzAO2AJfHx3uBKnCE0KLZCVzKYO9+\nbbzfBqwBDsV1LovjtwE3AJ8dZq5arTah7x2SmlCpVJjg47nxzIo50Jjw32n0PM/TxtkMrIzLK4FN\ndeMrgKnAfMKJ2N2EN4VjhP59Bbi9bhtJUhuM1cbZQDgKvwB4G/gy4ch9I+HqmoPALXHdnjjeA5wE\nVjF4SLAK+BZwNrCVcNQvSWqT8bRx2sk2jjSJ2MYph1a1cSRJJWPYS1ICDHtJSoBhL0kJMOwlKQGG\nvSQlwLCXpAQY9pKUAMNekhJg2EtSAgx7SUqAYS9JCTDsJSkBhr0kJcCwl6QEGPaSlADDXpISYNhL\nUgIMe0lKgGEvSQkw7CUpAR1FFyBpfKZP7+T48aNFl6GSqhRdwBC1Wq1WdA3SpFSpVIB2//9RzJzm\nQGPCa2P0PG+mjdMF7AHeAJ4GfhPoBHYA+4DtwIwh6/cCe4ElTcwrSWpQ3iP7ecD3gcuA/wP+CdgK\nfBj4GfAV4D7gfGA1sIjwhnAVMAf4HrAQODVkvx7ZSyPwyF4jaeWR/THgBHAOoe9/DvA/wM3A+rjO\nemB5XF4GbIjbHAT2A4tzzi1JalDesH8HeBj4MSHkf05o38wE+uM6/fExwGygr277PsIRviSpDfJe\njXMJ8AVCO+dd4J+BPx2yTo3RP/8N+1x3d/fp5Wq1SrVazVmiJJ2Zsiwjy7KGtsnbs78VuAn4s/j4\nduAa4I+AG4EjwCxgJ3ApoW8PsDbebwPWALuG7NeevTQCe/YaSSt79nsJ4X52nOATQA+wBVgZ11kJ\nbIrLm4EVwFRgPrAA2J1zbklSg/K2cV4DngL+k3BFzcvA3wPTgI3AXYQTsbfE9XvieA9wElhF+w8X\nJClZfqlKKol02jhTCMeE7TVt2vkcO/ZO2+edCONp4xj2UkmkE/ZFzBnmLWv+tPobtJKkkjDsJSkB\nhr0kJcCwl6QEGPaSlADDXpIS4C9VSTn4q1EqG6+zl3Lwmvczbc4wb1nzx+vsJUmAYS9JSTDsJSkB\nhr0kJcCwl6QEGPaSlADDXpISYNhLUgIMe0lKgGEvSQkw7CUpAYa9JCXAsJekBBj2kpSAZsJ+BvAM\n8CbQA1wNdAI7gH3A9rjOgC6gF9gLLGliXklSg5oJ+3XAVuAy4PcJIb6aEPYLgefjY4BFwK3xfinw\nWJNzS5IakDdwzwOuB56Ij08C7wI3A+vj2HpgeVxeBmwATgAHgf3A4pxzS5IalDfs5wM/BZ4EXga+\nAXwQmAn0x3X642OA2UBf3fZ9wJycc0uSGpT3N2g7gI8CnwN+CDzKYMtmQI3Rf1ts2Oe6u7tPL1er\nVarVas4SJenMlGUZWZY1tE3e36C9EHiRcIQPcB3hBOzFwI3AEWAWsBO4lME3grXxfhuwBtg1ZL/+\nBq1Kwd+gPdPmDPOWNX9a+Ru0R4C3CSdiAT4B7AG2ACvj2EpgU1zeDKwAphLeIBYAu3POLUlqUN42\nDsDngW8TAvwAcAdwFrARuItwIvaWuG5PHO8hnMxdRTFv3ZKUpLxtnFaxjaNSsI1zps0Z5i1r/rSy\njSNJKhHDXpISYNhLUgIMe0lKgGEvSQkw7CUpAYa9JCXAsJekBBj2kpQAw16SEmDYS1ICDHtJSoBh\nL0kJMOwlKQGGvSQlwLCXpAQY9pKUAMNekhJg2EtSAgx7SUqAYS9JCTDsJSkBhr0kJaDZsD8LeAXY\nEh93AjuAfcB2YEbdul1AL7AXWNLkvJKkBjQb9vcAPUAtPl5NCPuFwPPxMcAi4NZ4vxR4bALmliSN\nUzOBOxf4FPA4UIljNwPr4/J6YHlcXgZsAE4AB4H9wOIm5pYkNaCZsH8EuBc4VTc2E+iPy/3xMcBs\noK9uvT5gThNzS5Ia0JFzu08DPyH066sjrFNjsL0z0vPv093dfXq5Wq1SrY60e0lKU5ZlZFnW0DaV\nsVcZ1kPA7cBJ4APAdOBZ4CpC+B8BZgE7gUsZ7N2vjffbgDXAriH7rdVqo70/SJNDpVJh9GOZlszq\nnC2et6z5E16Po+d53jbO/cBFwHxgBfB9QvhvBlbGdVYCm+Ly5rje1LjNAmB3zrklSQ3K28YZauDt\ncC2wEbiLcCL2ljjeE8d7CJ8GVlHMW7ckJSlvG6dVbOOoFGzjnGlzhnnLmj+tbONIkkrEsJekBBj2\nkpQAw16SEmDYS1ICDHtJSoBhL0kJMOwlKQGGvSQlwLCXpAQY9pKUAMNekhJg2EtSAgx7SUqAYS9J\nCTDsJSkBhr0kJcCwl6QEGPaSlADDXpISYNhLUgIMe0lKgGEvSQnIG/YXATuBPcCPgLvjeCewA9gH\nbAdm1G3TBfQCe4ElOeeVJOVQybndhfH2KnAu8BKwHLgD+BnwFeA+4HxgNbAIeBq4CpgDfA9YCJwa\nst9arVbLWZLUPpVKBWj3a9U5Wz1vWfMnvB5Hz/O8R/ZHCEEP8AvgTUKI3wysj+PrCW8AAMuADcAJ\n4CCwH1icc25JUoMmomc/D7gC2AXMBPrjeH98DDAb6Kvbpo/w5iBJaoOOJrc/F/gX4B7g+JDnaoz+\nWWzY57q7u08vV6tVqtVqUwVK0pkmyzKyLGtom7w9e4ApwHeA54BH49heoEpo88winMS9lNC3B1gb\n77cBawifBurZs1fDpk/v5PjxowXMnEIvO5U5w7xlzZ9W9uwrwDeBHgaDHmAzsDIurwQ21Y2vAKYC\n84EFwO6cc0u/JgR9rc03qVzyHtlfB/wAeJ3BV34XIcA3Ar9LOBF7C/Dz+Pz9wJ3ASULb57vD7Ncj\nezXMK2Occ6LmLWv+jOfIvpk2TisY9mqYYe+cEzVvWfOnlW0cSVKJGPaSlADDXpISYNhLUgIMe0lK\ngGEvSQkw7CUpAYa9JCXAsJekBBj2kpQAw16SEmDYS1ICDHtJSoBhL0kJMOwlKQGGvSQlwLCXpAR0\nFF2AJE0OHQO/+NQ206adz7Fj77RlLn+WUKXnzxI6Z3nnnZifQhzPzxJ6ZK8JNX16J8ePHy26DElD\neGSvCeVRtnOWc86i5m3fkb0naCUpAe0O+6XAXqAXuK/Nc0tSstoZ9mcBf0cI/EXAbcBlbZy/5bIs\nK7qE3Mpce5AVXUCTsqILaFJWdAFNyoouoOXaGfaLgf3AQeAE8I/AsjbO33JlDswy1x5kRRfQpKzo\nApqUFV1Ak7KiC2i5dl6NMwd4u+5xH3B1G+cH4NChQ+zatasl+96zZw8bN24c9rlrr72WOXPmtGRe\nSRpLO8N+Ulxm88gjf8u6dQ+3bP/PPPPMsONTp36Q9977ZcvmHd4Uwoeo8XnwwQdbV4qkQrXz0str\ngG5Czx6gCzgF/E3dOvuBS9pYkySdCQ4AHyq6iAEdhILmAVOBVznDTtBKkoJPAv9FOILvKrgWSZIk\nSa2yGNgNvAL8ELiq2HJy+TzwJvAjfv18RJl8kXA+pbPoQhr0VcK/+9eAZ4Hzii1n3Mr8ZcOLgJ3A\nHsJr/u5iy8nlLELmbCm6kBxmAM8QXvc9hHOjpZABfxyXP0l4EZXJjcAOwmUwAL9dYC15XQRsA96i\nfGF/E4PfHVkbb5PdWYS25jzC66Zs57IuBP4gLp9LaNOWqX6AvwK+DWwuupAc1gN3xuUORjnAmWx/\nG+d/GSx2BnC4wFry+Evgrxm83vGnBdaS19eALxVdRE47CJ9IAHYBcwusZbzK/mXDI4Q3KIBfEI4w\nZxdXTsPmAp8CHmfy/WHIsZwHXA88ER+fBN4daeXJFvargYeBHxM+kpftJO4C4A+B/yB8SvlYodU0\nbhnhy26vF13IBLgT2Fp0EeMw3JcNy/rtu3nAFYQ32rJ4BLiXwYOEMplPOKB8EngZ+AZwzkgrF/H3\n7HcQPvoN9QCh33c38K/AnxDesW5qX2njMlr9HcD5hL7ZVcBG4OL2lTYuo9XfBSypG5uMRzoj1X8/\ngz3XB4D3gKfbVVQTJsWXDSfAuYTe8T2EI/wy+DTwE0K/vlpsKbl0AB8FPkc4x/ko4YD5y0UWNV7H\n6pYrjPKRZJJ6Drih7vF+4LcKqqVRvwf0E3r1bxFaCgeB3ymwpjw+A/wb8IGC6xivawjnSAZ0Ub6T\ntFOA7wJfKLqQBj1E+FT1FqGF/EvgqUIrasyFhNoHXAd8p6BaGvYyg2H5ccK7VZn8BTDwNwcWEtpR\nZVXGE7RLCVeFXFB0IQ0o+5cNK4SAfKToQpp0A+W8GucHhKyB8BcKSnMF4McI/b5XgRcJ/b8ymQL8\nA/AG8BLl/Gg44L8pX9j3AocIH8tfAR4rtpxxK/OXDa8j9LtfZfDf+9JRt5icbqCcV+N8hHBQXLbL\njSVJkiRJkiRJkiRJkiRJkiRJkiSptf4fuS7V9Vo4XkEAAAAASUVORK5CYII=\n",
       "text": [
        "<matplotlib.figure.Figure at 0x7fbe6e984dd0>"
       ]
      }
     ],
     "prompt_number": 56
=======
       "png": "iVBORw0KGgoAAAANSUhEUgAAAXsAAAEACAYAAABS29YJAAAABHNCSVQICAgIfAhkiAAAAAlwSFlz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\nJEmSJEmSJEmSJEmSJEmd9f+FOIr45r6FgAAAAABJRU5ErkJggg==\n",
       "text": [
        "<matplotlib.figure.Figure at 0x7fb3e57d0410>"
       ]
      }
     ],
     "prompt_number": 14
>>>>>>> 599d9a5b3f871a14eb589bc1840177fc00afe136
    },
    {
     "cell_type": "markdown",
     "metadata": {},
     "source": [
      "Add the option normed=True in .hist to take a normalised historgram"
     ]
    },
    {
     "cell_type": "code",
     "collapsed": false,
     "input": [
<<<<<<< HEAD
      "num_char_norm = plt.hist(df.num_char_log, normed=True)"
=======
      "num_char_log.hist(normed = True)"
>>>>>>> 599d9a5b3f871a14eb589bc1840177fc00afe136
     ],
     "language": "python",
     "metadata": {},
     "outputs": [
      {
       "metadata": {},
<<<<<<< HEAD
       "output_type": "display_data",
       "png": "iVBORw0KGgoAAAANSUhEUgAAAXgAAAEACAYAAAC57G0KAAAABHNCSVQICAgIfAhkiAAAAAlwSFlz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\nRK5CYII=\n",
       "text": [
        "<matplotlib.figure.Figure at 0x7fbe6e5cbb10>"
       ]
      }
     ],
     "prompt_number": 57
=======
       "output_type": "pyout",
       "prompt_number": 16,
       "text": [
        "<matplotlib.axes.AxesSubplot at 0x7fb3e5585690>"
       ]
      },
      {
       "metadata": {},
       "output_type": "display_data",
       "png": "iVBORw0KGgoAAAANSUhEUgAAAXgAAAEACAYAAAC57G0KAAAABHNCSVQICAgIfAhkiAAAAAlwSFlz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\n",
       "text": [
        "<matplotlib.figure.Figure at 0x7fb3e56c2390>"
       ]
      }
     ],
     "prompt_number": 16
>>>>>>> 599d9a5b3f871a14eb589bc1840177fc00afe136
    },
    {
     "cell_type": "markdown",
     "metadata": {},
     "source": [
      "Describe the distribution of log(num_char)"
     ]
    },
    {
     "cell_type": "code",
     "collapsed": false,
     "input": [
<<<<<<< HEAD
      "(mu, sigma) = stats.norm.fit(df.num_char_log)\n",
      "n, bins, patches = plt.hist(df.num_char_log, 30, normed=True)\n",
      "# add a 'best fit' line\n",
      "y = mlab.normpdf( bins, mu, sigma)\n",
=======
      "(mu, sigma) = stats.norm.fit(num_char_log)\n",
      "n, bins, patches = plt.hist(num_char_log, 50, normed=1, facecolor='green', alpha=0.75)\n",
      "\n",
      "y = mpl.mlab.normpdf( bins, mu, sigma)\n",
>>>>>>> 599d9a5b3f871a14eb589bc1840177fc00afe136
      "l = plt.plot(bins, y, 'r--', linewidth=2)"
     ],
     "language": "python",
     "metadata": {},
     "outputs": [
      {
       "metadata": {},
       "output_type": "display_data",
<<<<<<< HEAD
       "png": "iVBORw0KGgoAAAANSUhEUgAAAXgAAAEACAYAAAC57G0KAAAABHNCSVQICAgIfAhkiAAAAAlwSFlz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\n9P8BXtqWUmCCPcUAAAAASUVORK5CYII=\n",
       "text": [
        "<matplotlib.figure.Figure at 0x7fbe6e32cb90>"
       ]
      }
     ],
     "prompt_number": 58
=======
       "png": "iVBORw0KGgoAAAANSUhEUgAAAXgAAAEACAYAAAC57G0KAAAABHNCSVQICAgIfAhkiAAAAAlwSFlz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\n",
       "text": [
        "<matplotlib.figure.Figure at 0x7fb3e46991d0>"
       ]
      }
     ],
     "prompt_number": 52
>>>>>>> 599d9a5b3f871a14eb589bc1840177fc00afe136
    },
    {
     "cell_type": "markdown",
     "metadata": {},
     "source": [
      "Use .plot(kind='kde') to get a fitted distribution of log(num_char)"
     ]
    },
    {
     "cell_type": "code",
     "collapsed": false,
     "input": [
<<<<<<< HEAD
      "\n",
      "df.num_char_log.plot(kind=\"kde\")"
=======
      "num_char_log.plot(kind='kde')\n"
>>>>>>> 599d9a5b3f871a14eb589bc1840177fc00afe136
     ],
     "language": "python",
     "metadata": {},
     "outputs": [
      {
       "metadata": {},
       "output_type": "pyout",
<<<<<<< HEAD
       "prompt_number": 61,
       "text": [
        "<matplotlib.axes.AxesSubplot at 0x7fbe6e419190>"
=======
       "prompt_number": 20,
       "text": [
        "<matplotlib.axes.AxesSubplot at 0x7fb3e509bdd0>"
>>>>>>> 599d9a5b3f871a14eb589bc1840177fc00afe136
       ]
      },
      {
       "metadata": {},
       "output_type": "display_data",
<<<<<<< HEAD
       "png": "iVBORw0KGgoAAAANSUhEUgAAAYoAAAEACAYAAACtVTGuAAAABHNCSVQICAgIfAhkiAAAAAlwSFlz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\n",
       "text": [
        "<matplotlib.figure.Figure at 0x7fbe6e763690>"
       ]
      }
     ],
     "prompt_number": 61
=======
       "png": "iVBORw0KGgoAAAANSUhEUgAAAYoAAAEACAYAAACtVTGuAAAABHNCSVQICAgIfAhkiAAAAAlwSFlz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\nYII=\n",
       "text": [
        "<matplotlib.figure.Figure at 0x7fb3e535e8d0>"
       ]
      }
     ],
     "prompt_number": 20
>>>>>>> 599d9a5b3f871a14eb589bc1840177fc00afe136
    },
    {
     "cell_type": "markdown",
     "metadata": {},
     "source": [
      "Put the histogram and the fitted distribution code to see a combined graph."
     ]
    },
    {
     "cell_type": "code",
     "collapsed": false,
     "input": [
<<<<<<< HEAD
      "n, bins, patches = plt.hist(df.num_char_log, 10, normed=True)\n",
      "df.num_char_log.plot(kind=\"kde\")"
=======
      "num_char_log.plot(kind='kde')\n",
      "num_char_log.hist(normed = True)"
>>>>>>> 599d9a5b3f871a14eb589bc1840177fc00afe136
     ],
     "language": "python",
     "metadata": {},
     "outputs": [
      {
       "metadata": {},
       "output_type": "pyout",
<<<<<<< HEAD
       "prompt_number": 62,
       "text": [
        "<matplotlib.axes.AxesSubplot at 0x7fbe6e8a73d0>"
=======
       "prompt_number": 21,
       "text": [
        "<matplotlib.axes.AxesSubplot at 0x7fb3e4ffa1d0>"
>>>>>>> 599d9a5b3f871a14eb589bc1840177fc00afe136
       ]
      },
      {
       "metadata": {},
       "output_type": "display_data",
<<<<<<< HEAD
       "png": "iVBORw0KGgoAAAANSUhEUgAAAYoAAAEACAYAAACtVTGuAAAABHNCSVQICAgIfAhkiAAAAAlwSFlz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\n",
       "text": [
        "<matplotlib.figure.Figure at 0x7fbe6e1e35d0>"
       ]
      }
     ],
     "prompt_number": 62
=======
       "png": "iVBORw0KGgoAAAANSUhEUgAAAYoAAAEACAYAAACtVTGuAAAABHNCSVQICAgIfAhkiAAAAAlwSFlz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\nJDj/H/XjSFRMYB0oAAAAAElFTkSuQmCC\n",
       "text": [
        "<matplotlib.figure.Figure at 0x7fb3e51cabd0>"
       ]
      }
     ],
     "prompt_number": 21
>>>>>>> 599d9a5b3f871a14eb589bc1840177fc00afe136
    },
    {
     "cell_type": "markdown",
     "metadata": {},
     "source": [
      "Use stats.probplot(Variable,plot=pylab) to make the probability graph of log(num_char)."
     ]
    },
    {
     "cell_type": "code",
     "collapsed": false,
     "input": [
<<<<<<< HEAD
      "stats.probplot(df.num_char_log,plot=pylab)"
=======
      "stats.probplot(num_char_log,plot=pylab)"
>>>>>>> 599d9a5b3f871a14eb589bc1840177fc00afe136
     ],
     "language": "python",
     "metadata": {},
     "outputs": [
      {
       "metadata": {},
       "output_type": "pyout",
<<<<<<< HEAD
       "prompt_number": 63,
=======
       "prompt_number": 23,
>>>>>>> 599d9a5b3f871a14eb589bc1840177fc00afe136
       "text": [
        "((array([-3.57254769, -3.33333369, -3.20128822, ...,  3.20128822,\n",
        "          3.33333369,  3.57254769]),\n",
        "  array([-6.90775528, -6.90775528, -5.80914299, ...,  5.10499351,\n",
        "          5.15880239,  5.24748186])),\n",
        " (1.4958225738512727, 1.5138307109734415, 0.98315433157784171))"
       ]
      },
      {
       "metadata": {},
       "output_type": "display_data",
       "png": "iVBORw0KGgoAAAANSUhEUgAAAX8AAAEZCAYAAAB/6SUgAAAABHNCSVQICAgIfAhkiAAAAAlwSFlz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\nREREREREREREYtD/A11BgLApgJMsAAAAAElFTkSuQmCC\n",
       "text": [
<<<<<<< HEAD
        "<matplotlib.figure.Figure at 0x7fbe6e14d590>"
       ]
      }
     ],
     "prompt_number": 63
=======
        "<matplotlib.figure.Figure at 0x7fb3e568d850>"
       ]
      }
     ],
     "prompt_number": 23
>>>>>>> 599d9a5b3f871a14eb589bc1840177fc00afe136
    },
    {
     "cell_type": "markdown",
     "metadata": {},
     "source": [
      "Is log(num_char) normaly distributed? Justify your answer."
     ]
    },
    {
     "cell_type": "code",
     "collapsed": false,
     "input": [],
     "language": "python",
     "metadata": {},
     "outputs": [],
     "prompt_number": 22
    },
    {
     "cell_type": "markdown",
     "metadata": {},
     "source": [
      "Produce a frequency table for the number of spam and no spam emails using .value_counts(). \n",
      "Name it spam_freq."
     ]
    },
    {
     "cell_type": "code",
     "collapsed": false,
     "input": [
<<<<<<< HEAD
      "spam_freq = df.spam.value_counts()"
     ],
     "language": "python",
     "metadata": {},
     "outputs": [],
     "prompt_number": 68
=======
      "spam_freq = df.spam.value_counts()\n",
      "spam_freq"
     ],
     "language": "python",
     "metadata": {},
     "outputs": [
      {
       "metadata": {},
       "output_type": "pyout",
       "prompt_number": 25,
       "text": [
        "0    3554\n",
        "1     367\n",
        "dtype: int64"
       ]
      }
     ],
     "prompt_number": 25
>>>>>>> 599d9a5b3f871a14eb589bc1840177fc00afe136
    },
    {
     "cell_type": "markdown",
     "metadata": {},
     "source": [
      "Produce a bar plot of the previous results by using .plot(kind='bar')"
     ]
    },
    {
     "cell_type": "code",
     "collapsed": false,
     "input": [
<<<<<<< HEAD
      "spam_freq.plot(kind='bar')"
=======
      "spam_freq.plot(kind = 'bar')"
>>>>>>> 599d9a5b3f871a14eb589bc1840177fc00afe136
     ],
     "language": "python",
     "metadata": {},
     "outputs": [
      {
       "metadata": {},
       "output_type": "pyout",
<<<<<<< HEAD
       "prompt_number": 69,
       "text": [
        "<matplotlib.axes.AxesSubplot at 0x7fbe6df5ab10>"
=======
       "prompt_number": 26,
       "text": [
        "<matplotlib.axes.AxesSubplot at 0x7fb3e4e2c6d0>"
>>>>>>> 599d9a5b3f871a14eb589bc1840177fc00afe136
       ]
      },
      {
       "metadata": {},
       "output_type": "display_data",
       "png": "iVBORw0KGgoAAAANSUhEUgAAAXkAAAD7CAYAAACPDORaAAAABHNCSVQICAgIfAhkiAAAAAlwSFlz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\n",
       "text": [
<<<<<<< HEAD
        "<matplotlib.figure.Figure at 0x7fbe6e0045d0>"
       ]
      }
     ],
     "prompt_number": 69
=======
        "<matplotlib.figure.Figure at 0x7fb3e4e2c450>"
       ]
      }
     ],
     "prompt_number": 26
>>>>>>> 599d9a5b3f871a14eb589bc1840177fc00afe136
    },
    {
     "cell_type": "markdown",
     "metadata": {},
     "source": [
      "Produce a pivot table for spam and number variables using pd.crosstab(Variable1,Variable2) and name it pivot_table."
     ]
    },
    {
     "cell_type": "code",
     "collapsed": false,
     "input": [
<<<<<<< HEAD
      "pivot_table = pd.crosstab(df.spam, df.number)"
     ],
     "language": "python",
     "metadata": {},
     "outputs": [],
     "prompt_number": 81
=======
      "pivot_table = pd.crosstab(df.spam, df.number)\n",
      "pivot_table"
     ],
     "language": "python",
     "metadata": {},
     "outputs": [
      {
       "html": [
        "<div style=\"max-height:1000px;max-width:1500px;overflow:auto;\">\n",
        "<table border=\"1\" class=\"dataframe\">\n",
        "  <thead>\n",
        "    <tr style=\"text-align: right;\">\n",
        "      <th>number</th>\n",
        "      <th>big</th>\n",
        "      <th>none</th>\n",
        "      <th>small</th>\n",
        "    </tr>\n",
        "    <tr>\n",
        "      <th>spam</th>\n",
        "      <th></th>\n",
        "      <th></th>\n",
        "      <th></th>\n",
        "    </tr>\n",
        "  </thead>\n",
        "  <tbody>\n",
        "    <tr>\n",
        "      <th>0</th>\n",
        "      <td> 495</td>\n",
        "      <td> 400</td>\n",
        "      <td> 2659</td>\n",
        "    </tr>\n",
        "    <tr>\n",
        "      <th>1</th>\n",
        "      <td>  50</td>\n",
        "      <td> 149</td>\n",
        "      <td>  168</td>\n",
        "    </tr>\n",
        "  </tbody>\n",
        "</table>\n",
        "</div>"
       ],
       "metadata": {},
       "output_type": "pyout",
       "prompt_number": 29,
       "text": [
        "number  big  none  small\n",
        "spam                    \n",
        "0       495   400   2659\n",
        "1        50   149    168"
       ]
      }
     ],
     "prompt_number": 29
>>>>>>> 599d9a5b3f871a14eb589bc1840177fc00afe136
    },
    {
     "cell_type": "markdown",
     "metadata": {},
     "source": [
      "Produce a bar plot for the table"
     ]
    },
    {
     "cell_type": "code",
     "collapsed": false,
     "input": [
<<<<<<< HEAD
      "pivot_table.plot(kind='bar')"
=======
      "pivot_table.plot(kind = 'bar')"
>>>>>>> 599d9a5b3f871a14eb589bc1840177fc00afe136
     ],
     "language": "python",
     "metadata": {},
     "outputs": [
      {
       "metadata": {},
       "output_type": "pyout",
<<<<<<< HEAD
       "prompt_number": 82,
       "text": [
        "<matplotlib.axes.AxesSubplot at 0x7fbe6de85710>"
=======
       "prompt_number": 30,
       "text": [
        "<matplotlib.axes.AxesSubplot at 0x7fb3e4e8f710>"
>>>>>>> 599d9a5b3f871a14eb589bc1840177fc00afe136
       ]
      },
      {
       "metadata": {},
       "output_type": "display_data",
       "png": "iVBORw0KGgoAAAANSUhEUgAAAXkAAAEKCAYAAAD3tSVSAAAABHNCSVQICAgIfAhkiAAAAAlwSFlz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\n3Pf/AQhH1fqhxiDyAAAAAElFTkSuQmCC\n",
       "text": [
<<<<<<< HEAD
        "<matplotlib.figure.Figure at 0x7fbe6de85a10>"
       ]
      }
     ],
     "prompt_number": 82
=======
        "<matplotlib.figure.Figure at 0x7fb3e4def910>"
       ]
      }
     ],
     "prompt_number": 30
>>>>>>> 599d9a5b3f871a14eb589bc1840177fc00afe136
    },
    {
     "cell_type": "markdown",
     "metadata": {},
     "source": [
      "Produce frequency table by normalising the columns, i.e. use 'Name of your talbe'.div('Name of your talbe'.sum(1).astype(float),axis=0), and name it pivot_freq."
     ]
    },
    {
     "cell_type": "code",
     "collapsed": false,
     "input": [
<<<<<<< HEAD
      "pivot_freq = pivot_table.div(pivot_table.sum(1).astype(float),axis=0)\n",
=======
      "pivot_freq = pivot_table.div(pivot_table.sum(1).astype(float), axis = 0)\n",
>>>>>>> 599d9a5b3f871a14eb589bc1840177fc00afe136
      "pivot_freq"
     ],
     "language": "python",
     "metadata": {},
     "outputs": [
      {
       "html": [
        "<div style=\"max-height:1000px;max-width:1500px;overflow:auto;\">\n",
        "<table border=\"1\" class=\"dataframe\">\n",
        "  <thead>\n",
        "    <tr style=\"text-align: right;\">\n",
        "      <th>number</th>\n",
        "      <th>big</th>\n",
        "      <th>none</th>\n",
        "      <th>small</th>\n",
        "    </tr>\n",
        "    <tr>\n",
        "      <th>spam</th>\n",
        "      <th></th>\n",
        "      <th></th>\n",
        "      <th></th>\n",
        "    </tr>\n",
        "  </thead>\n",
        "  <tbody>\n",
        "    <tr>\n",
        "      <th>0</th>\n",
        "      <td> 0.13928</td>\n",
        "      <td> 0.112549</td>\n",
        "      <td> 0.748171</td>\n",
        "    </tr>\n",
        "    <tr>\n",
        "      <th>1</th>\n",
        "      <td> 0.13624</td>\n",
        "      <td> 0.405995</td>\n",
        "      <td> 0.457766</td>\n",
        "    </tr>\n",
        "  </tbody>\n",
        "</table>\n",
        "</div>"
       ],
       "metadata": {},
       "output_type": "pyout",
<<<<<<< HEAD
       "prompt_number": 84,
=======
       "prompt_number": 32,
>>>>>>> 599d9a5b3f871a14eb589bc1840177fc00afe136
       "text": [
        "number      big      none     small\n",
        "spam                               \n",
        "0       0.13928  0.112549  0.748171\n",
        "1       0.13624  0.405995  0.457766"
       ]
      }
     ],
<<<<<<< HEAD
     "prompt_number": 84
=======
     "prompt_number": 32
>>>>>>> 599d9a5b3f871a14eb589bc1840177fc00afe136
    },
    {
     "cell_type": "markdown",
     "metadata": {},
     "source": [
      "Produce a bar plot from the frequency table."
     ]
    },
    {
     "cell_type": "code",
     "collapsed": false,
     "input": [
<<<<<<< HEAD
      "pivot_freq.plot(kind='bar')"
=======
      "pivot_freq.plot(kind = 'bar')"
>>>>>>> 599d9a5b3f871a14eb589bc1840177fc00afe136
     ],
     "language": "python",
     "metadata": {},
     "outputs": [
      {
       "metadata": {},
       "output_type": "pyout",
<<<<<<< HEAD
       "prompt_number": 85,
       "text": [
        "<matplotlib.axes.AxesSubplot at 0x7fbe6deaa8d0>"
=======
       "prompt_number": 33,
       "text": [
        "<matplotlib.axes.AxesSubplot at 0x7fb3e4d27750>"
>>>>>>> 599d9a5b3f871a14eb589bc1840177fc00afe136
       ]
      },
      {
       "metadata": {},
       "output_type": "display_data",
       "png": "iVBORw0KGgoAAAANSUhEUgAAAW8AAAEKCAYAAADdBdT9AAAABHNCSVQICAgIfAhkiAAAAAlwSFlz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\nEREREREREREREREREREREZP8P+QAqMQddVCcAAAAAElFTkSuQmCC\n",
       "text": [
<<<<<<< HEAD
        "<matplotlib.figure.Figure at 0x7fbe6df5a990>"
       ]
      }
     ],
     "prompt_number": 85
=======
        "<matplotlib.figure.Figure at 0x7fb3e4e87a90>"
       ]
      }
     ],
     "prompt_number": 33
>>>>>>> 599d9a5b3f871a14eb589bc1840177fc00afe136
    },
    {
     "cell_type": "markdown",
     "metadata": {},
     "source": [
      "Add stacked=True to the arguments of the barplot. Compare the graphs."
     ]
    },
    {
     "cell_type": "code",
     "collapsed": false,
     "input": [
<<<<<<< HEAD
      "pivot_freq.plot(kind='bar', stacked=True)"
=======
      "pivot_freq.plot(kind = 'bar', stacked = True)"
>>>>>>> 599d9a5b3f871a14eb589bc1840177fc00afe136
     ],
     "language": "python",
     "metadata": {},
     "outputs": [
      {
       "metadata": {},
       "output_type": "pyout",
<<<<<<< HEAD
       "prompt_number": 86,
       "text": [
        "<matplotlib.axes.AxesSubplot at 0x7fbe6de33550>"
=======
       "prompt_number": 34,
       "text": [
        "<matplotlib.axes.AxesSubplot at 0x7fb3e4c8cf50>"
>>>>>>> 599d9a5b3f871a14eb589bc1840177fc00afe136
       ]
      },
      {
       "metadata": {},
       "output_type": "display_data",
       "png": "iVBORw0KGgoAAAANSUhEUgAAAW8AAAEKCAYAAADdBdT9AAAABHNCSVQICAgIfAhkiAAAAAlwSFlz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\n",
       "text": [
<<<<<<< HEAD
        "<matplotlib.figure.Figure at 0x7fbe6df173d0>"
       ]
      }
     ],
     "prompt_number": 86
=======
        "<matplotlib.figure.Figure at 0x7fb3e4d97d50>"
       ]
      }
     ],
     "prompt_number": 34
>>>>>>> 599d9a5b3f871a14eb589bc1840177fc00afe136
    },
    {
     "cell_type": "code",
     "collapsed": false,
     "input": [],
     "language": "python",
     "metadata": {},
     "outputs": []
    }
   ],
   "metadata": {}
  }
 ]
}
